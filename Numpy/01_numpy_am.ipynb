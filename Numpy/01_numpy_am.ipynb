{
 "cells": [
  {
   "cell_type": "markdown",
   "id": "1a4ec154",
   "metadata": {},
   "source": [
    "# First Numpy Programme"
   ]
  },
  {
   "cell_type": "code",
   "execution_count": 1,
   "id": "3ffbadc4",
   "metadata": {},
   "outputs": [],
   "source": [
    "import numpy as np"
   ]
  },
  {
   "cell_type": "code",
   "execution_count": 2,
   "id": "84c11f54",
   "metadata": {},
   "outputs": [],
   "source": [
    "arr1 = np.array([[1,2,3,4,7],[2,5,11,9,4]])"
   ]
  },
  {
   "cell_type": "code",
   "execution_count": 3,
   "id": "cc22e4cc",
   "metadata": {},
   "outputs": [
    {
     "data": {
      "text/plain": [
       "(2, 5)"
      ]
     },
     "execution_count": 3,
     "metadata": {},
     "output_type": "execute_result"
    }
   ],
   "source": [
    "arr1.shape"
   ]
  },
  {
   "cell_type": "code",
   "execution_count": 4,
   "id": "b3861b8d",
   "metadata": {},
   "outputs": [
    {
     "data": {
      "text/plain": [
       "dtype('int32')"
      ]
     },
     "execution_count": 4,
     "metadata": {},
     "output_type": "execute_result"
    }
   ],
   "source": [
    "arr1.dtype"
   ]
  },
  {
   "cell_type": "code",
   "execution_count": 5,
   "id": "2a091dfe",
   "metadata": {},
   "outputs": [
    {
     "data": {
      "text/plain": [
       "4"
      ]
     },
     "execution_count": 5,
     "metadata": {},
     "output_type": "execute_result"
    }
   ],
   "source": [
    "arr1[1,4]"
   ]
  },
  {
   "cell_type": "code",
   "execution_count": 6,
   "id": "98b92cd1",
   "metadata": {},
   "outputs": [],
   "source": [
    "eqarr = np.linspace(1,10,4)"
   ]
  },
  {
   "cell_type": "code",
   "execution_count": 7,
   "id": "195ee244",
   "metadata": {},
   "outputs": [
    {
     "data": {
      "text/plain": [
       "array([ 1.,  4.,  7., 10.])"
      ]
     },
     "execution_count": 7,
     "metadata": {},
     "output_type": "execute_result"
    }
   ],
   "source": [
    "eqarr"
   ]
  },
  {
   "cell_type": "code",
   "execution_count": null,
   "id": "0636cca9",
   "metadata": {},
   "outputs": [],
   "source": []
  }
 ],
 "metadata": {
  "kernelspec": {
   "display_name": "Python 3 (ipykernel)",
   "language": "python",
   "name": "python3"
  },
  "language_info": {
   "codemirror_mode": {
    "name": "ipython",
    "version": 3
   },
   "file_extension": ".py",
   "mimetype": "text/x-python",
   "name": "python",
   "nbconvert_exporter": "python",
   "pygments_lexer": "ipython3",
   "version": "3.10.5"
  }
 },
 "nbformat": 4,
 "nbformat_minor": 5
}
