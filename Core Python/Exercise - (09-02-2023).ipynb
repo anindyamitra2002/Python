{
 "cells": [
  {
   "cell_type": "markdown",
   "id": "c2c890f8",
   "metadata": {},
   "source": [
    "# List Exercise"
   ]
  },
  {
   "cell_type": "markdown",
   "id": "9f12e6ef",
   "metadata": {},
   "source": [
    "# 1. Show the distinct words in a text without the excluded words"
   ]
  },
  {
   "cell_type": "code",
   "execution_count": 12,
   "id": "85f23c84",
   "metadata": {},
   "outputs": [
    {
     "name": "stdout",
     "output_type": "stream",
     "text": [
      "Enter your sentence: this is my book\n",
      "The distinct words are:  {'my', 'book'}\n"
     ]
    }
   ],
   "source": [
    "txt = input(\"Enter your sentence: \")\n",
    "ex_words = [\"this\",\"and\", \"is\", \"not\"]\n",
    "distinct_words = set()\n",
    "words = txt.split(\" \")\n",
    "for i in words:\n",
    "    if i not in ex_words:\n",
    "        distinct_words.add(i)\n",
    "print(\"The distinct words are: \",distinct_words)\n",
    "        "
   ]
  },
  {
   "cell_type": "markdown",
   "id": "ee87392c",
   "metadata": {},
   "source": [
    "# 2. Calculate the density of each words excluding the given words"
   ]
  },
  {
   "cell_type": "code",
   "execution_count": 13,
   "id": "80be2d47",
   "metadata": {},
   "outputs": [
    {
     "name": "stdout",
     "output_type": "stream",
     "text": [
      "Enter your sentence: i am a very very good boy\n",
      "boy = 0.14285714285714285\n",
      "am = 0.14285714285714285\n",
      "i = 0.14285714285714285\n",
      "very = 0.2857142857142857\n",
      "a = 0.14285714285714285\n",
      "good = 0.14285714285714285\n"
     ]
    }
   ],
   "source": [
    "txt = input(\"Enter your sentence: \")\n",
    "total_length = len(txt)\n",
    "ex_words = [\"this\",\"and\", \"is\", \"not\"]\n",
    "words = txt.split(\" \")\n",
    "total_length = len(words)\n",
    "distinct_words = set()\n",
    "for i in words:\n",
    "    if i not in ex_words:\n",
    "        distinct_words.add(i)\n",
    "for j in distinct_words:\n",
    "    ctr = words.count(j)\n",
    "    density = (ctr/total_length)\n",
    "    print(f\"{j} = {density}\")"
   ]
  },
  {
   "cell_type": "markdown",
   "id": "5e3201ef",
   "metadata": {},
   "source": [
    "# 3. Concatenate two list indexwise"
   ]
  },
  {
   "cell_type": "code",
   "execution_count": 21,
   "id": "b608a2aa",
   "metadata": {},
   "outputs": [
    {
     "name": "stdout",
     "output_type": "stream",
     "text": [
      "[(1, 9), (2, 8), (4, 5), (7, 2), (3, 1)]\n"
     ]
    }
   ],
   "source": [
    "list1 = [1,2,4,7,3]\n",
    "list2 = [9,8,5,2,1]\n",
    "list3 = zip(list1, list2)\n",
    "print(list(list3))"
   ]
  },
  {
   "cell_type": "markdown",
   "id": "2466ed83",
   "metadata": {},
   "source": [
    "# 4. Iterate both list simultaneously"
   ]
  },
  {
   "cell_type": "code",
   "execution_count": 23,
   "id": "a3807411",
   "metadata": {},
   "outputs": [
    {
     "name": "stdout",
     "output_type": "stream",
     "text": [
      "1\n",
      "2\n",
      "4\n",
      "7\n",
      "3\n",
      "9\n",
      "8\n",
      "5\n",
      "2\n",
      "1\n",
      "9\n",
      "8\n",
      "5\n",
      "2\n",
      "1\n"
     ]
    }
   ],
   "source": [
    "list1.extend(list2)\n",
    "for i in list1:\n",
    "    print(i)"
   ]
  },
  {
   "cell_type": "markdown",
   "id": "fd09ae1c",
   "metadata": {},
   "source": [
    "# 5.Turn every item of a list into its square"
   ]
  },
  {
   "cell_type": "code",
   "execution_count": 25,
   "id": "fa99fdb6",
   "metadata": {},
   "outputs": [
    {
     "name": "stdout",
     "output_type": "stream",
     "text": [
      "[8, 64, 343, 729, 1, 27]\n"
     ]
    }
   ],
   "source": [
    "list4 = [2,4,7,9,1,3]\n",
    "mylist2 = []\n",
    "for j in list4:\n",
    "    mylist2.append(j*j*j)\n",
    "print(mylist2)"
   ]
  },
  {
   "cell_type": "markdown",
   "id": "e4c314fa",
   "metadata": {},
   "source": [
    "# 6. Remove empty strings from the list of strings"
   ]
  },
  {
   "cell_type": "code",
   "execution_count": 26,
   "id": "6c0ff608",
   "metadata": {},
   "outputs": [
    {
     "data": {
      "text/plain": [
       "['hi', 'hello', 'book', 'boy', 'pen']"
      ]
     },
     "execution_count": 26,
     "metadata": {},
     "output_type": "execute_result"
    }
   ],
   "source": [
    "list5 = [\" \", \"hi\", \"hello\", \"book\", \"boy\", \"pen\"]\n",
    "for i in list5:\n",
    "    if i.__contains__(\" \"):\n",
    "        list5.remove(i)\n",
    "list5"
   ]
  },
  {
   "cell_type": "markdown",
   "id": "175fedab",
   "metadata": {},
   "source": [
    "# 7.  Add new item to list after a specified item"
   ]
  },
  {
   "cell_type": "code",
   "execution_count": 34,
   "id": "bee6709b",
   "metadata": {},
   "outputs": [
    {
     "name": "stdout",
     "output_type": "stream",
     "text": [
      "Enter a element of the list: 4\n",
      "Enter the element to insert after 4: 5\n",
      "[2, 4, 5, 7, 9, 1, 3]\n"
     ]
    }
   ],
   "source": [
    "list4 = [2,4,7,9,1,3]\n",
    "num = int(input(\"Enter a element of the list: \"))\n",
    "if num in list4:\n",
    "    idx = list4.index(num)\n",
    "    inp = int(input(f\"Enter the element to insert after {num}: \"))\n",
    "    list4.insert(idx+1, inp)\n",
    "    print(list4)\n",
    "else:\n",
    "    print(\"Your element is not present in the list!!\")"
   ]
  },
  {
   "cell_type": "markdown",
   "id": "75a076d6",
   "metadata": {},
   "source": [
    "# 8. Extend nested list by adding the sublist"
   ]
  },
  {
   "cell_type": "code",
   "execution_count": 39,
   "id": "1b049ad1",
   "metadata": {},
   "outputs": [
    {
     "data": {
      "text/plain": [
       "[2, 4, 7, 9, 1, 3, [2, 3, 4, 5], [4, 5, 9, 0]]"
      ]
     },
     "execution_count": 39,
     "metadata": {},
     "output_type": "execute_result"
    }
   ],
   "source": [
    "list4 = [2,4,7,9,1,3]\n",
    "list1 = [2,3,4,5]\n",
    "list2 = [4,5,9,0]\n",
    "list4.append(list1)\n",
    "list4.append(list2)\n",
    "list4"
   ]
  },
  {
   "cell_type": "markdown",
   "id": "376c47a6",
   "metadata": {},
   "source": [
    "# 9. Replace list’s item with new value if found"
   ]
  },
  {
   "cell_type": "code",
   "execution_count": 41,
   "id": "04202bcd",
   "metadata": {},
   "outputs": [
    {
     "name": "stdout",
     "output_type": "stream",
     "text": [
      "Enter a element of the list you want to replace: 4\n",
      "Enter the new element to replace 4: 2\n",
      "[2, 2, 7, 9, 1, 3]\n"
     ]
    }
   ],
   "source": [
    "list4 = [2,4,7,9,1,3]\n",
    "num = int(input(\"Enter a element of the list you want to replace: \"))\n",
    "if num in list4:\n",
    "    inp = int(input(f\"Enter the new element to replace {num}: \"))\n",
    "    idx = list4.index(num)\n",
    "    list4[idx] = inp\n",
    "    print(list4)\n",
    "else:\n",
    "    print(\"Your element is not present in the list!!\")"
   ]
  },
  {
   "cell_type": "markdown",
   "id": "e6f84efa",
   "metadata": {},
   "source": [
    "# 10. Remove all occurrences of a specific item from a list"
   ]
  },
  {
   "cell_type": "code",
   "execution_count": 46,
   "id": "e8e6fd68",
   "metadata": {},
   "outputs": [
    {
     "name": "stdout",
     "output_type": "stream",
     "text": [
      "Enter the element of your list you want to delete: 4\n",
      "all 4 is deleted\n"
     ]
    },
    {
     "data": {
      "text/plain": [
       "[2, 7, 9, 1, 3, 5]"
      ]
     },
     "execution_count": 46,
     "metadata": {},
     "output_type": "execute_result"
    }
   ],
   "source": [
    "list4 = [2,4,7,9,1,3,4,5,4]\n",
    "num = int(input(\"Enter the element of your list you want to delete: \"))\n",
    "if num in list4:\n",
    "    for i in list4:\n",
    "        if i == num:\n",
    "            list4.remove(i)\n",
    "    print(f\"all {num} is deleted\")\n",
    "else:\n",
    "    print(f\"{num} is not present in the list\")\n",
    "list4"
   ]
  },
  {
   "cell_type": "markdown",
   "id": "f5645301",
   "metadata": {},
   "source": [
    "# 11. Concatenate two lists in the following order"
   ]
  },
  {
   "cell_type": "code",
   "execution_count": 47,
   "id": "9f43d551",
   "metadata": {},
   "outputs": [
    {
     "data": {
      "text/plain": [
       "['Hello Dear', 'Hello Sir', 'take Dear', 'take Sir']"
      ]
     },
     "execution_count": 47,
     "metadata": {},
     "output_type": "execute_result"
    }
   ],
   "source": [
    "list1 = [\"Hello \", \"take \"]\n",
    "list2 = [\"Dear\", \"Sir\"]\n",
    "list3 = []\n",
    "for i in list1:\n",
    "    for j in list2:\n",
    "        list3.append(i+j)\n",
    "list3"
   ]
  },
  {
   "cell_type": "markdown",
   "id": "3a30af67",
   "metadata": {},
   "source": [
    "# String Exercise"
   ]
  },
  {
   "cell_type": "markdown",
   "id": "de92252f",
   "metadata": {},
   "source": [
    "# 1A. Create a new string made of the first, middle, and last characters input string"
   ]
  },
  {
   "cell_type": "code",
   "execution_count": 54,
   "id": "c05208f1",
   "metadata": {},
   "outputs": [
    {
     "name": "stdout",
     "output_type": "stream",
     "text": [
      "Enter a string: hello\n"
     ]
    },
    {
     "data": {
      "text/plain": [
       "'hlo'"
      ]
     },
     "execution_count": 54,
     "metadata": {},
     "output_type": "execute_result"
    }
   ],
   "source": [
    "mystr = \"\"\n",
    "inp = input(\"Enter a string: \")\n",
    "mid_char = inp[len(inp)//2]\n",
    "mystr = mystr + inp[0] + mid_char + inp[len(inp)-1]\n",
    "mystr"
   ]
  },
  {
   "cell_type": "markdown",
   "id": "4a7df2b3",
   "metadata": {},
   "source": [
    "# 1B. Create a string made of the middle three characters"
   ]
  },
  {
   "cell_type": "code",
   "execution_count": 56,
   "id": "f7f3229c",
   "metadata": {},
   "outputs": [
    {
     "name": "stdout",
     "output_type": "stream",
     "text": [
      "Enter a string: hello\n"
     ]
    },
    {
     "data": {
      "text/plain": [
       "'ell'"
      ]
     },
     "execution_count": 56,
     "metadata": {},
     "output_type": "execute_result"
    }
   ],
   "source": [
    "mystr = \"\"\n",
    "inp = input(\"Enter a string: \")\n",
    "mid_idx = len(inp)//2\n",
    "mystr = mystr + inp[mid_idx - 1] + inp[mid_idx] + inp[mid_idx + 1]\n",
    "mystr"
   ]
  },
  {
   "cell_type": "markdown",
   "id": "3f47bb23",
   "metadata": {},
   "source": [
    "# 2. Append new string in the middle of a given string"
   ]
  },
  {
   "cell_type": "code",
   "execution_count": 58,
   "id": "17a2845d",
   "metadata": {},
   "outputs": [
    {
     "name": "stdout",
     "output_type": "stream",
     "text": [
      "Enter a string: book\n"
     ]
    },
    {
     "data": {
      "text/plain": [
       "'bopythonok'"
      ]
     },
     "execution_count": 58,
     "metadata": {},
     "output_type": "execute_result"
    }
   ],
   "source": [
    "newstr = \"python\"\n",
    "mystr = \"\"\n",
    "inp = input(\"Enter a string: \")\n",
    "mid_idx = len(inp)//2\n",
    "mystr = mystr + inp[:mid_idx] + newstr + inp[mid_idx:]\n",
    "mystr"
   ]
  },
  {
   "cell_type": "markdown",
   "id": "2f60d4b3",
   "metadata": {},
   "source": [
    "# 3. Create a new string made of the first, middle, and last characters of each input string"
   ]
  },
  {
   "cell_type": "code",
   "execution_count": 61,
   "id": "06493c42",
   "metadata": {},
   "outputs": [
    {
     "name": "stdout",
     "output_type": "stream",
     "text": [
      "Enter some string seperated with space: book pen cube space\n"
     ]
    },
    {
     "data": {
      "text/plain": [
       "'bpcsoebaknee'"
      ]
     },
     "execution_count": 61,
     "metadata": {},
     "output_type": "execute_result"
    }
   ],
   "source": [
    "mystr = \"\"\n",
    "inp = input(\"Enter some string seperated with space: \")\n",
    "strings = inp.split(\" \")\n",
    "for string in strings:\n",
    "    mystr = mystr + string[0]\n",
    "for string in strings:\n",
    "    mid_char = string[len(string)//2]\n",
    "    mystr = mystr + mid_char\n",
    "for string in strings:\n",
    "    mid_char = string[len(string)//2]\n",
    "    mystr = mystr + string[len(string)-1]\n",
    "mystr"
   ]
  },
  {
   "cell_type": "markdown",
   "id": "049774cb",
   "metadata": {},
   "source": [
    "# 4.  Arrange string characters such that lowercase letters should come first"
   ]
  },
  {
   "cell_type": "code",
   "execution_count": 67,
   "id": "0f23ce9b",
   "metadata": {},
   "outputs": [
    {
     "name": "stdout",
     "output_type": "stream",
     "text": [
      "Enter a string mix with upper and lowercase letters: heLLo\n",
      "oheLL\n"
     ]
    }
   ],
   "source": [
    "inp = input(\"Enter a string mix with upper and lowercase letters: \")\n",
    "list1 = []\n",
    "for i in inp:\n",
    "    list1.append(i)\n",
    "list1.sort()\n",
    "list1.reverse()\n",
    "print(\"\".join(list1))"
   ]
  },
  {
   "cell_type": "markdown",
   "id": "970d4f41",
   "metadata": {},
   "source": [
    "# 5. Count all letters, digits, and special symbols from a given string"
   ]
  },
  {
   "cell_type": "code",
   "execution_count": 3,
   "id": "3077f8ff",
   "metadata": {},
   "outputs": [
    {
     "name": "stdout",
     "output_type": "stream",
     "text": [
      "Enter a string: hello11311..3.\n",
      "h => 1\n",
      "1 => 4\n",
      ". => 3\n",
      "e => 1\n",
      "o => 1\n",
      "l => 2\n",
      "3 => 2\n"
     ]
    }
   ],
   "source": [
    "inp = input(\"Enter a string: \")\n",
    "mylist = list(inp)\n",
    "letters = set(mylist)\n",
    "for letter in letters:\n",
    "    print(f\"{letter} => {mylist.count(letter)}\")"
   ]
  },
  {
   "cell_type": "markdown",
   "id": "d92342f9",
   "metadata": {},
   "source": [
    "# 6. String characters balance Test"
   ]
  },
  {
   "cell_type": "code",
   "execution_count": 5,
   "id": "738cca5b",
   "metadata": {},
   "outputs": [
    {
     "name": "stdout",
     "output_type": "stream",
     "text": [
      "Enter a string: good\n",
      "Enter another string: dogo\n",
      "The both string is balanced\n"
     ]
    }
   ],
   "source": [
    "def isAnagram(str1, str2):\n",
    "    balanced = False\n",
    "    if(len(str1) == len(str2)):\n",
    "        for i in str2:\n",
    "            if i in str1:\n",
    "                balanced = True\n",
    "            else:\n",
    "                balanced = False\n",
    "                break\n",
    "        if(balanced):\n",
    "            print(\"The both string is balanced\")\n",
    "        else:\n",
    "            print(\"The both string is not balanced\")\n",
    "    else:\n",
    "        print(\"The both string is not balanced\")\n",
    "\n",
    "inp1 = input(\"Enter a string: \")\n",
    "inp2 = input(\"Enter another string: \")\n",
    "\n",
    "isAnagram(inp1,inp2)"
   ]
  },
  {
   "cell_type": "markdown",
   "id": "3b4a1b9e",
   "metadata": {},
   "source": [
    "# 7. Find all occurrences of a substring in a given string by ignoring the case"
   ]
  },
  {
   "cell_type": "code",
   "execution_count": 3,
   "id": "01500ce8",
   "metadata": {},
   "outputs": [
    {
     "name": "stdout",
     "output_type": "stream",
     "text": [
      "Enter a sentence: i am A Good good GoOD boy\n",
      "Enter a target word: GOOD\n",
      "GOOD => 3\n"
     ]
    }
   ],
   "source": [
    "mystr = input(\"Enter a sentence: \")\n",
    "target = input(\"Enter a target word: \")\n",
    "mystr = mystr.lower()\n",
    "print(f\"{target} => {mystr.count(target.lower())}\")"
   ]
  },
  {
   "cell_type": "markdown",
   "id": "3e33f301",
   "metadata": {},
   "source": [
    "# 8. Calculate the sum and average of the digits present in a string"
   ]
  },
  {
   "cell_type": "code",
   "execution_count": 4,
   "id": "db37e57b",
   "metadata": {},
   "outputs": [
    {
     "name": "stdout",
     "output_type": "stream",
     "text": [
      "Sum of all numbers is: 21\n",
      "Avarage of all numbers is: 3.5\n"
     ]
    }
   ],
   "source": [
    "mystr = input(\"Enter a string mixed with numbers and other characters: \")\n",
    "list1 = list(mystr)\n",
    "nums = []\n",
    "for i in list1:\n",
    "    if ((ord(i)>47) and (ord(i) < 58)):\n",
    "        nums.append(int(i))\n",
    "print(f\"Sum of all numbers is: {sum(nums)}\")\n",
    "print(f\"Avarage of all numbers is: {sum(nums)/len(nums)}\")"
   ]
  },
  {
   "cell_type": "markdown",
   "id": "2af5610e",
   "metadata": {},
   "source": [
    "# 9. Count occurrences of all characters within a string"
   ]
  },
  {
   "cell_type": "code",
   "execution_count": 6,
   "id": "2d6c0b7a",
   "metadata": {},
   "outputs": [
    {
     "name": "stdout",
     "output_type": "stream",
     "text": [
      "Enter a sentence: i am a good boy\n",
      "g => 1\n",
      "  => 4\n",
      "y => 1\n",
      "a => 2\n",
      "b => 1\n",
      "m => 1\n",
      "i => 1\n",
      "d => 1\n",
      "o => 3\n"
     ]
    }
   ],
   "source": [
    "mystr = input(\"Enter a sentence: \")\n",
    "myset = set(mystr)\n",
    "for i in myset:\n",
    "    print(f\"{i} => {mystr.count(i)}\")"
   ]
  },
  {
   "cell_type": "markdown",
   "id": "8fa37749",
   "metadata": {},
   "source": [
    "# 10. Find the last position of a given substring"
   ]
  },
  {
   "cell_type": "code",
   "execution_count": null,
   "id": "95c790bd",
   "metadata": {},
   "outputs": [],
   "source": []
  },
  {
   "cell_type": "markdown",
   "id": "5372eb63",
   "metadata": {},
   "source": [
    "# 11. Split a string on hyphens"
   ]
  },
  {
   "cell_type": "code",
   "execution_count": 7,
   "id": "e16ffa7a",
   "metadata": {},
   "outputs": [
    {
     "name": "stdout",
     "output_type": "stream",
     "text": [
      "Enter a sentence: hello-my-g-good\n"
     ]
    },
    {
     "data": {
      "text/plain": [
       "['hello', 'my', 'g', 'good']"
      ]
     },
     "execution_count": 7,
     "metadata": {},
     "output_type": "execute_result"
    }
   ],
   "source": [
    "mystr = input(\"Enter a sentence: \")\n",
    "mystr.split(\"-\")"
   ]
  },
  {
   "cell_type": "markdown",
   "id": "6de052cc",
   "metadata": {},
   "source": [
    "# 12.  Remove special symbols / punctuation from a string"
   ]
  },
  {
   "cell_type": "code",
   "execution_count": 2,
   "id": "8b589cc5",
   "metadata": {},
   "outputs": [
    {
     "name": "stdout",
     "output_type": "stream",
     "text": [
      "Enter a string mix with special chars: \n",
      "The stripped string is:  \n"
     ]
    }
   ],
   "source": [
    "import re\n",
    "\n",
    "mystr = input(\"Enter a string mix with special chars: \")\n",
    "newstr = re.sub(\"\\W\",\"\",mystr)\n",
    "print(\"The stripped string is: \",newstr)"
   ]
  },
  {
   "cell_type": "markdown",
   "id": "70f40633",
   "metadata": {},
   "source": [
    "# 13.  Find words with both alphabets and numbers"
   ]
  },
  {
   "cell_type": "code",
   "execution_count": 3,
   "id": "ae9dca55",
   "metadata": {},
   "outputs": [
    {
     "name": "stdout",
     "output_type": "stream",
     "text": [
      "Enter your text: hi i am aboy\n"
     ]
    },
    {
     "ename": "error",
     "evalue": "bad character range a-Z at position 1",
     "output_type": "error",
     "traceback": [
      "\u001b[1;31m---------------------------------------------------------------------------\u001b[0m",
      "\u001b[1;31merror\u001b[0m                                     Traceback (most recent call last)",
      "Input \u001b[1;32mIn [3]\u001b[0m, in \u001b[0;36m<cell line: 3>\u001b[1;34m()\u001b[0m\n\u001b[0;32m      2\u001b[0m words \u001b[38;5;241m=\u001b[39m txt\u001b[38;5;241m.\u001b[39msplit(\u001b[38;5;124m\"\u001b[39m\u001b[38;5;124m \u001b[39m\u001b[38;5;124m\"\u001b[39m)\n\u001b[0;32m      3\u001b[0m \u001b[38;5;28;01mfor\u001b[39;00m word \u001b[38;5;129;01min\u001b[39;00m words:\n\u001b[1;32m----> 4\u001b[0m     alph \u001b[38;5;241m=\u001b[39m \u001b[43mre\u001b[49m\u001b[38;5;241;43m.\u001b[39;49m\u001b[43msearch\u001b[49m\u001b[43m(\u001b[49m\u001b[38;5;124;43m\"\u001b[39;49m\u001b[38;5;124;43m[a-Z]\u001b[39;49m\u001b[38;5;124;43m\"\u001b[39;49m\u001b[43m,\u001b[49m\u001b[43mword\u001b[49m\u001b[43m)\u001b[49m\n\u001b[0;32m      5\u001b[0m     \u001b[38;5;28mprint\u001b[39m(word)\n",
      "File \u001b[1;32m~\\AppData\\Local\\Programs\\Python\\Python310\\lib\\re.py:200\u001b[0m, in \u001b[0;36msearch\u001b[1;34m(pattern, string, flags)\u001b[0m\n\u001b[0;32m    197\u001b[0m \u001b[38;5;28;01mdef\u001b[39;00m \u001b[38;5;21msearch\u001b[39m(pattern, string, flags\u001b[38;5;241m=\u001b[39m\u001b[38;5;241m0\u001b[39m):\n\u001b[0;32m    198\u001b[0m     \u001b[38;5;124;03m\"\"\"Scan through string looking for a match to the pattern, returning\u001b[39;00m\n\u001b[0;32m    199\u001b[0m \u001b[38;5;124;03m    a Match object, or None if no match was found.\"\"\"\u001b[39;00m\n\u001b[1;32m--> 200\u001b[0m     \u001b[38;5;28;01mreturn\u001b[39;00m \u001b[43m_compile\u001b[49m\u001b[43m(\u001b[49m\u001b[43mpattern\u001b[49m\u001b[43m,\u001b[49m\u001b[43m \u001b[49m\u001b[43mflags\u001b[49m\u001b[43m)\u001b[49m\u001b[38;5;241m.\u001b[39msearch(string)\n",
      "File \u001b[1;32m~\\AppData\\Local\\Programs\\Python\\Python310\\lib\\re.py:303\u001b[0m, in \u001b[0;36m_compile\u001b[1;34m(pattern, flags)\u001b[0m\n\u001b[0;32m    301\u001b[0m \u001b[38;5;28;01mif\u001b[39;00m \u001b[38;5;129;01mnot\u001b[39;00m sre_compile\u001b[38;5;241m.\u001b[39misstring(pattern):\n\u001b[0;32m    302\u001b[0m     \u001b[38;5;28;01mraise\u001b[39;00m \u001b[38;5;167;01mTypeError\u001b[39;00m(\u001b[38;5;124m\"\u001b[39m\u001b[38;5;124mfirst argument must be string or compiled pattern\u001b[39m\u001b[38;5;124m\"\u001b[39m)\n\u001b[1;32m--> 303\u001b[0m p \u001b[38;5;241m=\u001b[39m \u001b[43msre_compile\u001b[49m\u001b[38;5;241;43m.\u001b[39;49m\u001b[43mcompile\u001b[49m\u001b[43m(\u001b[49m\u001b[43mpattern\u001b[49m\u001b[43m,\u001b[49m\u001b[43m \u001b[49m\u001b[43mflags\u001b[49m\u001b[43m)\u001b[49m\n\u001b[0;32m    304\u001b[0m \u001b[38;5;28;01mif\u001b[39;00m \u001b[38;5;129;01mnot\u001b[39;00m (flags \u001b[38;5;241m&\u001b[39m DEBUG):\n\u001b[0;32m    305\u001b[0m     \u001b[38;5;28;01mif\u001b[39;00m \u001b[38;5;28mlen\u001b[39m(_cache) \u001b[38;5;241m>\u001b[39m\u001b[38;5;241m=\u001b[39m _MAXCACHE:\n\u001b[0;32m    306\u001b[0m         \u001b[38;5;66;03m# Drop the oldest item\u001b[39;00m\n",
      "File \u001b[1;32m~\\AppData\\Local\\Programs\\Python\\Python310\\lib\\sre_compile.py:788\u001b[0m, in \u001b[0;36mcompile\u001b[1;34m(p, flags)\u001b[0m\n\u001b[0;32m    786\u001b[0m \u001b[38;5;28;01mif\u001b[39;00m isstring(p):\n\u001b[0;32m    787\u001b[0m     pattern \u001b[38;5;241m=\u001b[39m p\n\u001b[1;32m--> 788\u001b[0m     p \u001b[38;5;241m=\u001b[39m \u001b[43msre_parse\u001b[49m\u001b[38;5;241;43m.\u001b[39;49m\u001b[43mparse\u001b[49m\u001b[43m(\u001b[49m\u001b[43mp\u001b[49m\u001b[43m,\u001b[49m\u001b[43m \u001b[49m\u001b[43mflags\u001b[49m\u001b[43m)\u001b[49m\n\u001b[0;32m    789\u001b[0m \u001b[38;5;28;01melse\u001b[39;00m:\n\u001b[0;32m    790\u001b[0m     pattern \u001b[38;5;241m=\u001b[39m \u001b[38;5;28;01mNone\u001b[39;00m\n",
      "File \u001b[1;32m~\\AppData\\Local\\Programs\\Python\\Python310\\lib\\sre_parse.py:955\u001b[0m, in \u001b[0;36mparse\u001b[1;34m(str, flags, state)\u001b[0m\n\u001b[0;32m    952\u001b[0m state\u001b[38;5;241m.\u001b[39mstr \u001b[38;5;241m=\u001b[39m \u001b[38;5;28mstr\u001b[39m\n\u001b[0;32m    954\u001b[0m \u001b[38;5;28;01mtry\u001b[39;00m:\n\u001b[1;32m--> 955\u001b[0m     p \u001b[38;5;241m=\u001b[39m \u001b[43m_parse_sub\u001b[49m\u001b[43m(\u001b[49m\u001b[43msource\u001b[49m\u001b[43m,\u001b[49m\u001b[43m \u001b[49m\u001b[43mstate\u001b[49m\u001b[43m,\u001b[49m\u001b[43m \u001b[49m\u001b[43mflags\u001b[49m\u001b[43m \u001b[49m\u001b[38;5;241;43m&\u001b[39;49m\u001b[43m \u001b[49m\u001b[43mSRE_FLAG_VERBOSE\u001b[49m\u001b[43m,\u001b[49m\u001b[43m \u001b[49m\u001b[38;5;241;43m0\u001b[39;49m\u001b[43m)\u001b[49m\n\u001b[0;32m    956\u001b[0m \u001b[38;5;28;01mexcept\u001b[39;00m Verbose:\n\u001b[0;32m    957\u001b[0m     \u001b[38;5;66;03m# the VERBOSE flag was switched on inside the pattern.  to be\u001b[39;00m\n\u001b[0;32m    958\u001b[0m     \u001b[38;5;66;03m# on the safe side, we'll parse the whole thing again...\u001b[39;00m\n\u001b[0;32m    959\u001b[0m     state \u001b[38;5;241m=\u001b[39m State()\n",
      "File \u001b[1;32m~\\AppData\\Local\\Programs\\Python\\Python310\\lib\\sre_parse.py:444\u001b[0m, in \u001b[0;36m_parse_sub\u001b[1;34m(source, state, verbose, nested)\u001b[0m\n\u001b[0;32m    442\u001b[0m start \u001b[38;5;241m=\u001b[39m source\u001b[38;5;241m.\u001b[39mtell()\n\u001b[0;32m    443\u001b[0m \u001b[38;5;28;01mwhile\u001b[39;00m \u001b[38;5;28;01mTrue\u001b[39;00m:\n\u001b[1;32m--> 444\u001b[0m     itemsappend(\u001b[43m_parse\u001b[49m\u001b[43m(\u001b[49m\u001b[43msource\u001b[49m\u001b[43m,\u001b[49m\u001b[43m \u001b[49m\u001b[43mstate\u001b[49m\u001b[43m,\u001b[49m\u001b[43m \u001b[49m\u001b[43mverbose\u001b[49m\u001b[43m,\u001b[49m\u001b[43m \u001b[49m\u001b[43mnested\u001b[49m\u001b[43m \u001b[49m\u001b[38;5;241;43m+\u001b[39;49m\u001b[43m \u001b[49m\u001b[38;5;241;43m1\u001b[39;49m\u001b[43m,\u001b[49m\n\u001b[0;32m    445\u001b[0m \u001b[43m                       \u001b[49m\u001b[38;5;129;43;01mnot\u001b[39;49;00m\u001b[43m \u001b[49m\u001b[43mnested\u001b[49m\u001b[43m \u001b[49m\u001b[38;5;129;43;01mand\u001b[39;49;00m\u001b[43m \u001b[49m\u001b[38;5;129;43;01mnot\u001b[39;49;00m\u001b[43m \u001b[49m\u001b[43mitems\u001b[49m\u001b[43m)\u001b[49m)\n\u001b[0;32m    446\u001b[0m     \u001b[38;5;28;01mif\u001b[39;00m \u001b[38;5;129;01mnot\u001b[39;00m sourcematch(\u001b[38;5;124m\"\u001b[39m\u001b[38;5;124m|\u001b[39m\u001b[38;5;124m\"\u001b[39m):\n\u001b[0;32m    447\u001b[0m         \u001b[38;5;28;01mbreak\u001b[39;00m\n",
      "File \u001b[1;32m~\\AppData\\Local\\Programs\\Python\\Python310\\lib\\sre_parse.py:599\u001b[0m, in \u001b[0;36m_parse\u001b[1;34m(source, state, verbose, nested, first)\u001b[0m\n\u001b[0;32m    597\u001b[0m     \u001b[38;5;28;01mif\u001b[39;00m hi \u001b[38;5;241m<\u001b[39m lo:\n\u001b[0;32m    598\u001b[0m         msg \u001b[38;5;241m=\u001b[39m \u001b[38;5;124m\"\u001b[39m\u001b[38;5;124mbad character range \u001b[39m\u001b[38;5;132;01m%s\u001b[39;00m\u001b[38;5;124m-\u001b[39m\u001b[38;5;132;01m%s\u001b[39;00m\u001b[38;5;124m\"\u001b[39m \u001b[38;5;241m%\u001b[39m (this, that)\n\u001b[1;32m--> 599\u001b[0m         \u001b[38;5;28;01mraise\u001b[39;00m source\u001b[38;5;241m.\u001b[39merror(msg, \u001b[38;5;28mlen\u001b[39m(this) \u001b[38;5;241m+\u001b[39m \u001b[38;5;241m1\u001b[39m \u001b[38;5;241m+\u001b[39m \u001b[38;5;28mlen\u001b[39m(that))\n\u001b[0;32m    600\u001b[0m     setappend((RANGE, (lo, hi)))\n\u001b[0;32m    601\u001b[0m \u001b[38;5;28;01melse\u001b[39;00m:\n",
      "\u001b[1;31merror\u001b[0m: bad character range a-Z at position 1"
     ]
    }
   ],
   "source": [
    "txt = input(\"Enter your text: \")\n",
    "words = txt.split(\" \")\n",
    "for word in words:\n",
    "    alph = re.search(\"[a-Z]\",word)\n",
    "    print(word)"
   ]
  },
  {
   "cell_type": "markdown",
   "id": "e9913b8d",
   "metadata": {},
   "source": [
    "# 14. Replace each special symbol with # in the following string"
   ]
  },
  {
   "cell_type": "code",
   "execution_count": 9,
   "id": "0fce16b7",
   "metadata": {},
   "outputs": [
    {
     "name": "stdout",
     "output_type": "stream",
     "text": [
      "Enter a string mix with special chars: w!e.are?v@e,\n",
      "The stripped string is:  w#e#are#v#e#\n"
     ]
    }
   ],
   "source": [
    "mystr = input(\"Enter a string mix with special chars: \")\n",
    "newstr = re.sub(\"\\W\",\"#\",mystr)\n",
    "print(\"The stripped string is: \",newstr)"
   ]
  },
  {
   "cell_type": "code",
   "execution_count": null,
   "id": "4ddd86ed",
   "metadata": {},
   "outputs": [],
   "source": []
  }
 ],
 "metadata": {
  "kernelspec": {
   "display_name": "Python 3 (ipykernel)",
   "language": "python",
   "name": "python3"
  },
  "language_info": {
   "codemirror_mode": {
    "name": "ipython",
    "version": 3
   },
   "file_extension": ".py",
   "mimetype": "text/x-python",
   "name": "python",
   "nbconvert_exporter": "python",
   "pygments_lexer": "ipython3",
   "version": "3.10.5"
  }
 },
 "nbformat": 4,
 "nbformat_minor": 5
}
