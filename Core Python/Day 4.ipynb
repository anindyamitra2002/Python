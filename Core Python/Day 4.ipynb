{
 "cells": [
  {
   "cell_type": "markdown",
   "id": "eb676024",
   "metadata": {},
   "source": [
    "# Slicing"
   ]
  },
  {
   "cell_type": "code",
   "execution_count": 1,
   "id": "ad7ab165",
   "metadata": {},
   "outputs": [],
   "source": [
    "s = 'ABCDEF'"
   ]
  },
  {
   "cell_type": "code",
   "execution_count": 2,
   "id": "efafd96d",
   "metadata": {},
   "outputs": [
    {
     "name": "stdout",
     "output_type": "stream",
     "text": [
      "FEDCB\n"
     ]
    }
   ],
   "source": [
    "print(s[-1:0:-1]) # reverse iteration in string"
   ]
  },
  {
   "cell_type": "code",
   "execution_count": 3,
   "id": "a0a8eb88",
   "metadata": {},
   "outputs": [],
   "source": [
    "a = s[::] # copy the whole string into a"
   ]
  },
  {
   "cell_type": "code",
   "execution_count": 4,
   "id": "a16ab046",
   "metadata": {},
   "outputs": [
    {
     "data": {
      "text/plain": [
       "'ABCDEF'"
      ]
     },
     "execution_count": 4,
     "metadata": {},
     "output_type": "execute_result"
    }
   ],
   "source": [
    "a"
   ]
  },
  {
   "cell_type": "code",
   "execution_count": 5,
   "id": "eb248ada",
   "metadata": {},
   "outputs": [],
   "source": [
    "a = s[::-1] # copy the whole string into a in reverse order"
   ]
  },
  {
   "cell_type": "code",
   "execution_count": 6,
   "id": "3e76feaf",
   "metadata": {},
   "outputs": [
    {
     "data": {
      "text/plain": [
       "'FEDCBA'"
      ]
     },
     "execution_count": 6,
     "metadata": {},
     "output_type": "execute_result"
    }
   ],
   "source": [
    "a"
   ]
  },
  {
   "cell_type": "markdown",
   "id": "541f1aba",
   "metadata": {},
   "source": [
    "# Tuple"
   ]
  },
  {
   "cell_type": "code",
   "execution_count": 7,
   "id": "fc946cad",
   "metadata": {},
   "outputs": [],
   "source": [
    "tp = (10,30,20,40,70,50)\n",
    "tp = tuple() # create an empty tuple"
   ]
  },
  {
   "cell_type": "code",
   "execution_count": 8,
   "id": "dc098cac",
   "metadata": {},
   "outputs": [
    {
     "data": {
      "text/plain": [
       "()"
      ]
     },
     "execution_count": 8,
     "metadata": {},
     "output_type": "execute_result"
    }
   ],
   "source": [
    "tp"
   ]
  },
  {
   "cell_type": "code",
   "execution_count": 9,
   "id": "26d60488",
   "metadata": {},
   "outputs": [],
   "source": [
    "# a[0] = 60 It is not allowed because Tuple is immutable sequences"
   ]
  },
  {
   "cell_type": "code",
   "execution_count": 10,
   "id": "bfa4757a",
   "metadata": {},
   "outputs": [
    {
     "data": {
      "text/plain": [
       "0"
      ]
     },
     "execution_count": 10,
     "metadata": {},
     "output_type": "execute_result"
    }
   ],
   "source": [
    "len(tp) # length function is Argumentative"
   ]
  },
  {
   "cell_type": "code",
   "execution_count": 11,
   "id": "9d0cd87c",
   "metadata": {},
   "outputs": [],
   "source": [
    "# Accessing tuple element\n",
    "for i in range(len(tp)):\n",
    "    print(tp[i])"
   ]
  },
  {
   "cell_type": "code",
   "execution_count": 12,
   "id": "feec7ee5",
   "metadata": {},
   "outputs": [
    {
     "data": {
      "text/plain": [
       "(1, 2, (2, 6))"
      ]
     },
     "execution_count": 12,
     "metadata": {},
     "output_type": "execute_result"
    }
   ],
   "source": [
    "# concatenate two tuples\n",
    "tp1 = (10,20,30,40)\n",
    "tp2 = (15,25)\n",
    "tp4 = (2,'hello') # tuple can be heterogeneous\n",
    "tp6 = (1,2,(2,6)) # 2D tuple\n",
    "tp3 = tp1 + tp2\n",
    "tp5 = tp4 * 3\n",
    "tp6"
   ]
  },
  {
   "cell_type": "markdown",
   "id": "f97a0267",
   "metadata": {},
   "source": [
    "# Set"
   ]
  },
  {
   "cell_type": "code",
   "execution_count": 13,
   "id": "04a78cf4",
   "metadata": {},
   "outputs": [],
   "source": [
    "s1 = {10,20,30,40}\n",
    "s2 = {20,25,30}\n",
    "s3 = set() # create empty set"
   ]
  },
  {
   "cell_type": "code",
   "execution_count": 14,
   "id": "b7b1c068",
   "metadata": {},
   "outputs": [],
   "source": [
    "# s2[1] ** set is not iterable"
   ]
  },
  {
   "cell_type": "code",
   "execution_count": 15,
   "id": "66cdac6e",
   "metadata": {},
   "outputs": [],
   "source": [
    "s4 = s1 & s2 # s1 intersection s2\n",
    "s4 = s1 - s2 # s1 - s2\n",
    "s4 = s1 | s2 # s1 U s2\n",
    "s4 = s1 ^ s2 # (s1 U s2) - (s1 intersection s2)"
   ]
  },
  {
   "cell_type": "code",
   "execution_count": 16,
   "id": "4a159b6d",
   "metadata": {},
   "outputs": [
    {
     "data": {
      "text/plain": [
       "{10, 25, 40}"
      ]
     },
     "execution_count": 16,
     "metadata": {},
     "output_type": "execute_result"
    }
   ],
   "source": [
    "s4"
   ]
  },
  {
   "cell_type": "markdown",
   "id": "2d531d09",
   "metadata": {},
   "source": [
    "# List and its Operation"
   ]
  },
  {
   "cell_type": "code",
   "execution_count": 17,
   "id": "578b96ad",
   "metadata": {},
   "outputs": [],
   "source": [
    "l1 = [] # empty list\n",
    "l2 = [10, \"alpha\", [2,3]] # list of list (2D-list) l2[2][0] = 2\n",
    "l3 = [2,3,5,7,8]"
   ]
  },
  {
   "cell_type": "code",
   "execution_count": 18,
   "id": "89d24ed5",
   "metadata": {},
   "outputs": [],
   "source": [
    "l4= l3 * 3 # copy the list three times and append it into main list"
   ]
  },
  {
   "cell_type": "code",
   "execution_count": 19,
   "id": "49183577",
   "metadata": {},
   "outputs": [
    {
     "data": {
      "text/plain": [
       "[10, 'alpha', [2, 3], 2, 3, 5, 7, 8]"
      ]
     },
     "execution_count": 19,
     "metadata": {},
     "output_type": "execute_result"
    }
   ],
   "source": [
    "l5 = l2 + l3 # concatenate two list\n",
    "l5"
   ]
  },
  {
   "cell_type": "code",
   "execution_count": 20,
   "id": "92f76725",
   "metadata": {},
   "outputs": [
    {
     "data": {
      "text/plain": [
       "[10, 'alpha', [2, 3], 40, [1, 4]]"
      ]
     },
     "execution_count": 20,
     "metadata": {},
     "output_type": "execute_result"
    }
   ],
   "source": [
    "l2.append(40) # append the element given in the arg with the list\n",
    "l2.append([1,4])\n",
    "l2"
   ]
  },
  {
   "cell_type": "code",
   "execution_count": 21,
   "id": "691e68d2",
   "metadata": {},
   "outputs": [
    {
     "data": {
      "text/plain": [
       "[10, 'alpha', [2, 3], 40, [1, 4], 2, 7, 5]"
      ]
     },
     "execution_count": 21,
     "metadata": {},
     "output_type": "execute_result"
    }
   ],
   "source": [
    "l2.extend([2,7,5]) # merge the given list with the main list\n",
    "l2"
   ]
  },
  {
   "cell_type": "code",
   "execution_count": 22,
   "id": "9d68d1a2",
   "metadata": {},
   "outputs": [
    {
     "data": {
      "text/plain": [
       "[2, 3, 55, 5, 7, 8]"
      ]
     },
     "execution_count": 22,
     "metadata": {},
     "output_type": "execute_result"
    }
   ],
   "source": [
    "l3.insert(2,55) # insert at any index position (index,element)\n",
    "l3"
   ]
  },
  {
   "cell_type": "code",
   "execution_count": 23,
   "id": "fba984cd",
   "metadata": {},
   "outputs": [
    {
     "data": {
      "text/plain": [
       "1"
      ]
     },
     "execution_count": 23,
     "metadata": {},
     "output_type": "execute_result"
    }
   ],
   "source": [
    "l3.count(5) # count the total number of occurence of the given element"
   ]
  },
  {
   "cell_type": "code",
   "execution_count": 24,
   "id": "581a09d1",
   "metadata": {},
   "outputs": [
    {
     "data": {
      "text/plain": [
       "[2, 3, 5, 7, 8]"
      ]
     },
     "execution_count": 24,
     "metadata": {},
     "output_type": "execute_result"
    }
   ],
   "source": [
    "l3.remove(55) # remove the given element from the list\n",
    "l3"
   ]
  },
  {
   "cell_type": "code",
   "execution_count": 25,
   "id": "8c0aedac",
   "metadata": {},
   "outputs": [
    {
     "data": {
      "text/plain": [
       "8"
      ]
     },
     "execution_count": 25,
     "metadata": {},
     "output_type": "execute_result"
    }
   ],
   "source": [
    "l3.pop(2) #Pop can remove the element of given index and return it\n",
    "A = l3.pop() # remove the last element of the list\n",
    "A"
   ]
  },
  {
   "cell_type": "code",
   "execution_count": 26,
   "id": "68a61dde",
   "metadata": {},
   "outputs": [
    {
     "data": {
      "text/plain": [
       "[2, 3, 7]"
      ]
     },
     "execution_count": 26,
     "metadata": {},
     "output_type": "execute_result"
    }
   ],
   "source": [
    "l3.sort()\n",
    "l3"
   ]
  },
  {
   "cell_type": "code",
   "execution_count": 27,
   "id": "ad4852c2",
   "metadata": {},
   "outputs": [],
   "source": [
    "l5 = l3.reverse()"
   ]
  },
  {
   "cell_type": "code",
   "execution_count": 28,
   "id": "2c05b9e8",
   "metadata": {},
   "outputs": [
    {
     "name": "stdout",
     "output_type": "stream",
     "text": [
      "None\n"
     ]
    }
   ],
   "source": [
    "print(l5)"
   ]
  },
  {
   "cell_type": "code",
   "execution_count": 48,
   "id": "1d2538de",
   "metadata": {},
   "outputs": [],
   "source": [
    "list5 = [1,3,6,7,2,0]\n",
    "list5.reverse()"
   ]
  },
  {
   "cell_type": "code",
   "execution_count": 49,
   "id": "7aa102a5",
   "metadata": {},
   "outputs": [
    {
     "name": "stdout",
     "output_type": "stream",
     "text": [
      "[0, 2, 7, 6, 3, 1]\n"
     ]
    }
   ],
   "source": [
    "print(list5)"
   ]
  },
  {
   "cell_type": "code",
   "execution_count": null,
   "id": "b1a7faf8",
   "metadata": {},
   "outputs": [],
   "source": [
    "x = len()"
   ]
  }
 ],
 "metadata": {
  "kernelspec": {
   "display_name": "Python 3 (ipykernel)",
   "language": "python",
   "name": "python3"
  },
  "language_info": {
   "codemirror_mode": {
    "name": "ipython",
    "version": 3
   },
   "file_extension": ".py",
   "mimetype": "text/x-python",
   "name": "python",
   "nbconvert_exporter": "python",
   "pygments_lexer": "ipython3",
   "version": "3.10.5"
  }
 },
 "nbformat": 4,
 "nbformat_minor": 5
}
