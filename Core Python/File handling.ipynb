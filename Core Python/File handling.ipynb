{
 "cells": [
  {
   "cell_type": "code",
   "execution_count": 1,
   "id": "1be856e4",
   "metadata": {},
   "outputs": [
    {
     "name": "stdout",
     "output_type": "stream",
     "text": [
      "Hi, I am anindya.\n",
      "\n",
      "I am studying about artificial intelligence.\n",
      "\n",
      "i love python\n",
      "\n",
      "python is used for machine learning\n"
     ]
    }
   ],
   "source": [
    "file = open('test.txt', 'r') # File open in read mode\n",
    "for char in file: # print characterwise\n",
    "    print(char)"
   ]
  },
  {
   "cell_type": "markdown",
   "id": "3484a0cd",
   "metadata": {},
   "source": [
    "### Reading a .java file as it's a text file"
   ]
  },
  {
   "cell_type": "code",
   "execution_count": 20,
   "id": "f3d13dc8",
   "metadata": {},
   "outputs": [],
   "source": [
    "file = open('VowelChecker.java', 'r')\n",
    "data = file.read()\n",
    "f = open('program.docx', 'w') # create a file\n",
    "f.write(data)\n",
    "f.close()"
   ]
  },
  {
   "cell_type": "code",
   "execution_count": 3,
   "id": "8f76cfc4",
   "metadata": {},
   "outputs": [
    {
     "name": "stdout",
     "output_type": "stream",
     "text": [
      "This the first line\n",
      "This the second line\n",
      "\n"
     ]
    }
   ],
   "source": [
    "file = open('second.txt', 'w') # create a file\n",
    "file.write(\"This the first line\\n\")\n",
    "file.write(\"This the second line\\n\")\n",
    "file.close() #file will not be created until you close the file\n",
    "\n",
    "file = open('second.txt', 'r')\n",
    "print(file.read())"
   ]
  },
  {
   "cell_type": "code",
   "execution_count": 4,
   "id": "64dfc552",
   "metadata": {},
   "outputs": [
    {
     "name": "stdout",
     "output_type": "stream",
     "text": [
      "Hi i am anindya.\n"
     ]
    }
   ],
   "source": [
    "file = open('second.txt', 'w')\n",
    "file.write(\"Hi i am anindya.\") # this will overwrite the content of second.txt\n",
    "file.close()\n",
    "\n",
    "file = open('second.txt', 'r')\n",
    "print(file.read())"
   ]
  },
  {
   "cell_type": "code",
   "execution_count": 5,
   "id": "07ba796b",
   "metadata": {},
   "outputs": [
    {
     "name": "stdout",
     "output_type": "stream",
     "text": [
      "Hi i am anindya.Hi i am anindya.\n"
     ]
    }
   ],
   "source": [
    "file = open('second.txt', 'a')\n",
    "file.write(\"Hi i am anindya.\")\n",
    "file.close()\n",
    "\n",
    "file = open('second.txt', 'r')\n",
    "print(file.read())"
   ]
  },
  {
   "cell_type": "code",
   "execution_count": 6,
   "id": "cd795f74",
   "metadata": {},
   "outputs": [
    {
     "name": "stdout",
     "output_type": "stream",
     "text": [
      "Hi \n"
     ]
    }
   ],
   "source": [
    "file = open('second.txt', 'r')\n",
    "print(file.read(3)) # return first 3 character"
   ]
  },
  {
   "cell_type": "code",
   "execution_count": 7,
   "id": "f546a7f0",
   "metadata": {},
   "outputs": [
    {
     "name": "stdout",
     "output_type": "stream",
     "text": [
      "['Hi', 'i', 'am', 'anindya.Hi', 'i', 'am', 'anindya.']\n"
     ]
    }
   ],
   "source": [
    "with open(\"second.txt\", 'r') as file:\n",
    "    data = file.readlines()\n",
    "#     print(data)\n",
    "    for line in data:\n",
    "        word = line.split()\n",
    "        print(word)"
   ]
  },
  {
   "cell_type": "markdown",
   "id": "56cce6ff",
   "metadata": {},
   "source": [
    "#### Binary files contain byte structure into records as per the application\n"
   ]
  },
  {
   "cell_type": "markdown",
   "id": "857fa87e",
   "metadata": {},
   "source": [
    "fo.seek(offset,0) go to offset from the beginning(absolute)\n",
    "fo.seek(offset,1) go to offset from the current (relative)\n",
    "fo.seek(offset,2) go to offset from the end (absolute)"
   ]
  },
  {
   "cell_type": "code",
   "execution_count": 12,
   "id": "ce3db221",
   "metadata": {},
   "outputs": [],
   "source": [
    "with open(\"sample.txt\", 'r') as file:\n",
    "    data = file.readlines()\n",
    "data[0] = data[0].upper()\n",
    "file = open('sample_upper.txt', 'w')\n",
    "file.writelines(data)"
   ]
  },
  {
   "cell_type": "code",
   "execution_count": 17,
   "id": "a6850816",
   "metadata": {},
   "outputs": [
    {
     "data": {
      "text/plain": [
       "312"
      ]
     },
     "execution_count": 17,
     "metadata": {},
     "output_type": "execute_result"
    }
   ],
   "source": [
    "with open(\"sample.txt\", 'r') as file:\n",
    "    data = file.read()\n",
    "vowel = ['a', 'e', 'i', 'o', 'u']\n",
    "for char in data.lower():\n",
    "    if char in vowel:\n",
    "        data = data.replace(char, char.upper())\n",
    "file1 = open('sample_vowel_upper.txt', 'w')\n",
    "file1.write(data)"
   ]
  },
  {
   "cell_type": "code",
   "execution_count": 11,
   "id": "f74f0203",
   "metadata": {},
   "outputs": [],
   "source": [
    "import subprocess\n",
    "\n",
    "# Run the Java program and capture its output\n",
    "process = subprocess.run([\"java\", \"VowelChecker\"], capture_output=True, text=True)\n",
    "\n",
    "# Write the output to a file\n",
    "with open(\"output.txt\", \"w\") as file:\n",
    "    file.write(process.stdout)"
   ]
  },
  {
   "cell_type": "code",
   "execution_count": null,
   "id": "87903b6a",
   "metadata": {},
   "outputs": [],
   "source": []
  }
 ],
 "metadata": {
  "kernelspec": {
   "display_name": "Python 3 (ipykernel)",
   "language": "python",
   "name": "python3"
  },
  "language_info": {
   "codemirror_mode": {
    "name": "ipython",
    "version": 3
   },
   "file_extension": ".py",
   "mimetype": "text/x-python",
   "name": "python",
   "nbconvert_exporter": "python",
   "pygments_lexer": "ipython3",
   "version": "3.10.5"
  }
 },
 "nbformat": 4,
 "nbformat_minor": 5
}
