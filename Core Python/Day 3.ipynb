{
 "cells": [
  {
   "cell_type": "markdown",
   "id": "d686c065",
   "metadata": {},
   "source": [
    "# Introduction to function"
   ]
  },
  {
   "cell_type": "code",
   "execution_count": 2,
   "id": "633b8f9e",
   "metadata": {},
   "outputs": [
    {
     "name": "stdout",
     "output_type": "stream",
     "text": [
      "result =  6\n",
      "I am starting\n"
     ]
    }
   ],
   "source": [
    "def func1(x,y): # function defination\n",
    "    res = 0\n",
    "    res = x * y\n",
    "    print(\"result = \",res)\n",
    "def start():\n",
    "    print(\"I am starting\")\n",
    "\n",
    "func1(2,3) # Function call\n",
    "start()"
   ]
  },
  {
   "cell_type": "code",
   "execution_count": 12,
   "id": "1dbfd701",
   "metadata": {},
   "outputs": [
    {
     "name": "stdout",
     "output_type": "stream",
     "text": [
      "0\n",
      "2\n",
      "4\n",
      "6\n",
      "8\n"
     ]
    }
   ],
   "source": [
    "def func2(n):\n",
    "#     for(i=0; i< n): # Syntax error\n",
    "      for i in range(0,n,2):\n",
    "          print(i)\n",
    "func2(10)"
   ]
  },
  {
   "cell_type": "markdown",
   "id": "95ba5e55",
   "metadata": {},
   "source": [
    "# Task - 1"
   ]
  },
  {
   "cell_type": "code",
   "execution_count": 14,
   "id": "82f82e7a",
   "metadata": {},
   "outputs": [
    {
     "name": "stdout",
     "output_type": "stream",
     "text": [
      "Enter the x: 2\n",
      "Enter the y: 4\n",
      "x + y =  6\n",
      "x - y =  -2\n",
      "x * y =  8\n",
      "x / y =  0.5\n",
      "x % y =  2\n"
     ]
    }
   ],
   "source": [
    "def doAdd(x,y):\n",
    "    print(\"x + y = \",x+y)\n",
    "def doSub(x,y):\n",
    "    print(\"x - y = \",x-y)\n",
    "def doMul(x,y):\n",
    "    print(\"x * y = \",x*y)\n",
    "def doDiv(x,y):\n",
    "    print(\"x / y = \",x/y)\n",
    "def doMod(x,y):\n",
    "    print(\"x % y = \",x%y)\n",
    "\n",
    "x = int(input(\"Enter the x: \"))\n",
    "y = int(input(\"Enter the y: \"))\n",
    "doAdd(x,y)\n",
    "doSub(x,y)\n",
    "doMul(x,y)\n",
    "doDiv(x,y)\n",
    "doMod(x,y)"
   ]
  },
  {
   "cell_type": "markdown",
   "id": "9d3fb09a",
   "metadata": {},
   "source": [
    "# Task - 2"
   ]
  },
  {
   "cell_type": "code",
   "execution_count": 19,
   "id": "83aa7d9c",
   "metadata": {},
   "outputs": [
    {
     "name": "stdout",
     "output_type": "stream",
     "text": [
      "Choose 1: KM -> M; 2: Miles -> yard; 3: cm -> mm\n",
      "Enter your choice: 2\n",
      "Enter the mile: 2\n",
      "Miles - >  3520\n"
     ]
    }
   ],
   "source": [
    "def kmTom():\n",
    "    km = int(input(\"Enter the KM: \"))\n",
    "    print(\"Meters - > \", km*1000)\n",
    "def mlToy():\n",
    "    ml = int(input(\"Enter the mile: \"))\n",
    "    print(\"Miles - > \", ml*1760)\n",
    "def cmTomm():\n",
    "    cm = int(input(\"Enter the cm: \"))\n",
    "    print(\"Centimeter - > \", cm*10)\n",
    "\n",
    "def cTof():\n",
    "    c = int(input(\"Enter the celcious: \"))\n",
    "    print(\"Farenheit - > \", ((c*9/5)+32) )\n",
    "def fToc():\n",
    "    f = int(input(\"Enter the farenhieht: \"))\n",
    "    print(\"Celcius - > \", ((f-32)*5/9))\n",
    "    \n",
    "def convDist():\n",
    "    print(\"Choose 1: KM -> M; 2: Miles -> yard; 3: cm -> mm\")\n",
    "    ch = int(input(\"Enter your choice: \"))\n",
    "    if(ch == 1):\n",
    "        kmTom()\n",
    "    elif(ch == 2):\n",
    "        mlToy()\n",
    "    elif(ch == 3):\n",
    "        cmTomm()\n",
    "        \n",
    "def convTemp():\n",
    "    print(\"Choose 1: C -> F; 2: F -> C\")\n",
    "    ch = int(input(\"Enter your choice: \"))\n",
    "    if(ch == 1):\n",
    "        cToF()\n",
    "    elif(ch == 2):\n",
    "        fToC()\n",
    "        \n",
    "print(\"Press 1: Distance Conversion; 2: Temperat\")"
   ]
  },
  {
   "cell_type": "code",
   "execution_count": null,
   "id": "72666497",
   "metadata": {},
   "outputs": [],
   "source": []
  }
 ],
 "metadata": {
  "kernelspec": {
   "display_name": "Python 3 (ipykernel)",
   "language": "python",
   "name": "python3"
  },
  "language_info": {
   "codemirror_mode": {
    "name": "ipython",
    "version": 3
   },
   "file_extension": ".py",
   "mimetype": "text/x-python",
   "name": "python",
   "nbconvert_exporter": "python",
   "pygments_lexer": "ipython3",
   "version": "3.10.5"
  }
 },
 "nbformat": 4,
 "nbformat_minor": 5
}
