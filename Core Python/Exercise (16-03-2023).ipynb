{
 "cells": [
  {
   "cell_type": "markdown",
   "id": "d557e505",
   "metadata": {},
   "source": [
    "### 1. Copy all the content o one file to another file in uppercae"
   ]
  },
  {
   "cell_type": "code",
   "execution_count": 4,
   "id": "7bfb550b",
   "metadata": {},
   "outputs": [],
   "source": [
    "with open(\"sample.txt\", 'r') as file:\n",
    "    data = file.readlines()\n",
    "data[0] = data[0].upper()\n",
    "file = open('sample_upper.txt', 'w')\n",
    "file.writelines(data)\n",
    "file.close()"
   ]
  },
  {
   "cell_type": "markdown",
   "id": "c9d72d25",
   "metadata": {},
   "source": [
    "### 2. Append content of one text file to another"
   ]
  },
  {
   "cell_type": "code",
   "execution_count": 5,
   "id": "2c181676",
   "metadata": {},
   "outputs": [],
   "source": [
    "with open(\"sample.txt\", 'r') as file:\n",
    "    data = file.readlines()\n",
    "    \n",
    "file = open('second.txt', 'a')\n",
    "file.writelines(data)\n",
    "file.close()"
   ]
  },
  {
   "cell_type": "markdown",
   "id": "beeebf95",
   "metadata": {},
   "source": [
    "### 3. Read content from one file and write into another file"
   ]
  },
  {
   "cell_type": "code",
   "execution_count": 6,
   "id": "8878413e",
   "metadata": {},
   "outputs": [],
   "source": [
    "with open(\"sample.txt\", 'r') as file:\n",
    "    data = file.readlines()\n",
    "\n",
    "file = open('sample_copy.txt', 'w')\n",
    "file.writelines(data)\n",
    "file.close()"
   ]
  },
  {
   "cell_type": "markdown",
   "id": "97559b1e",
   "metadata": {},
   "source": [
    "### 4. Copy odd lines from one file to other"
   ]
  },
  {
   "cell_type": "code",
   "execution_count": 19,
   "id": "5986563b",
   "metadata": {},
   "outputs": [
    {
     "name": "stdout",
     "output_type": "stream",
     "text": [
      "['Python is a high-level, general-purpose programming language', ' Its design philosophy emphasizes code readability with the use of significant indentation', ' Python is dynamically typed and garbage-collected', ' It supports multiple programming paradigms, including structured, object-oriented and functional programming']\n"
     ]
    }
   ],
   "source": [
    "with open(\"sample.txt\", 'r') as file:\n",
    "    data = file.read()\n",
    "    \n",
    "lines = data.split(\".\")\n",
    "print(lines)\n",
    "i = 0\n",
    "while(i < len(lines)):\n",
    "    file = open('oddlines.txt', 'a')\n",
    "    file.write(lines[i])\n",
    "    file.write(\".\")\n",
    "    i = i + 2;\n",
    "file.close()\n",
    "    \n",
    "    "
   ]
  },
  {
   "cell_type": "markdown",
   "id": "283dea9d",
   "metadata": {},
   "source": [
    "### 5. Read an entire text file"
   ]
  },
  {
   "cell_type": "code",
   "execution_count": 14,
   "id": "a45a03b3",
   "metadata": {},
   "outputs": [
    {
     "name": "stdout",
     "output_type": "stream",
     "text": [
      "Hi i am anindya. Hi i am anindya.Python is a high-level, general-purpose programming language. Its design philosophy emphasizes code readability with the use of significant indentation. Python is dynamically typed and garbage-collected. It supports multiple programming paradigms, including structured, object-oriented and functional programmingPython is a high-level, general-purpose programming language. Its design philosophy emphasizes code readability with the use of significant indentation. Python is dynamically typed and garbage-collected. It supports multiple programming paradigms, including structured, object-oriented and functional programming\n"
     ]
    }
   ],
   "source": [
    "file = open('second.txt', 'r')\n",
    "print(file.read())"
   ]
  },
  {
   "cell_type": "markdown",
   "id": "c84337d6",
   "metadata": {},
   "source": [
    "### 6. Read first n line"
   ]
  },
  {
   "cell_type": "code",
   "execution_count": 22,
   "id": "9c3ff81d",
   "metadata": {},
   "outputs": [
    {
     "name": "stdout",
     "output_type": "stream",
     "text": [
      "Hi i am anindya\n",
      " Hi i am anindya\n",
      "Python is a high-level, general-purpose programming language\n",
      " Its design philosophy emphasizes code readability with the use of significant indentation\n",
      " Python is dynamically typed and garbage-collected\n"
     ]
    }
   ],
   "source": [
    "def readFirstNLine(n):\n",
    "    file = open('second.txt', 'r')\n",
    "    data = file.read()\n",
    "    lines = data.split(\".\")\n",
    "    i = 0\n",
    "    while(i < n):\n",
    "        print(lines[i])\n",
    "        i = i+1\n",
    "readFirstNLine(5)"
   ]
  },
  {
   "cell_type": "markdown",
   "id": "de018177",
   "metadata": {},
   "source": [
    "### 7. Append text to a file and distplay the text"
   ]
  },
  {
   "cell_type": "code",
   "execution_count": 25,
   "id": "51374753",
   "metadata": {},
   "outputs": [
    {
     "name": "stdout",
     "output_type": "stream",
     "text": [
      "Hi i am anindya. Hi i am anindya.Python is a high-level, general-purpose programming language. Its design philosophy emphasizes code readability with the use of significant indentation. Python is dynamically typed and garbage-collected. It supports multiple programming paradigms, including structured, object-oriented and functional programmingPython is a high-level, general-purpose programming language. Its design philosophy emphasizes code readability with the use of significant indentation. Python is dynamically typed and garbage-collected. It supports multiple programming paradigms, including structured, object-oriented and functional programmingI love python.. I love python. I love python.\n"
     ]
    }
   ],
   "source": [
    "file = open('second.txt', 'a')\n",
    "file.write(\" I love python.\")\n",
    "file.close()\n",
    "\n",
    "file = open('second.txt', 'r')\n",
    "print(file.read())"
   ]
  },
  {
   "cell_type": "markdown",
   "id": "45ca6f06",
   "metadata": {},
   "source": [
    "### 8. Read file line by line and store it into a list"
   ]
  },
  {
   "cell_type": "code",
   "execution_count": 28,
   "id": "e439c69b",
   "metadata": {},
   "outputs": [
    {
     "data": {
      "text/plain": [
       "['Python is a high-level, general-purpose programming language',\n",
       " ' Its design philosophy emphasizes code readability with the use of significant indentation',\n",
       " ' Python is dynamically typed and garbage-collected',\n",
       " ' It supports multiple programming paradigms, including structured, object-oriented and functional programming']"
      ]
     },
     "execution_count": 28,
     "metadata": {},
     "output_type": "execute_result"
    }
   ],
   "source": [
    "with open(\"sample.txt\", 'r') as file:\n",
    "    data = file.read()\n",
    "data = data.split(\".\")\n",
    "data"
   ]
  },
  {
   "cell_type": "markdown",
   "id": "396068a9",
   "metadata": {},
   "source": [
    "### 9. Count the nuber of line in a text file"
   ]
  },
  {
   "cell_type": "code",
   "execution_count": 30,
   "id": "f8f88276",
   "metadata": {},
   "outputs": [
    {
     "name": "stdout",
     "output_type": "stream",
     "text": [
      "total lines:  4\n"
     ]
    }
   ],
   "source": [
    "with open(\"sample.txt\", 'r') as file:\n",
    "    data = file.read()\n",
    "data = data.split(\".\")\n",
    "print(\"total lines: \",len(data))"
   ]
  },
  {
   "cell_type": "markdown",
   "id": "ed3b34da",
   "metadata": {},
   "source": [
    "### 10. Count the frequency of word of a text file"
   ]
  },
  {
   "cell_type": "code",
   "execution_count": 31,
   "id": "99db1856",
   "metadata": {},
   "outputs": [
    {
     "name": "stdout",
     "output_type": "stream",
     "text": [
      "high-level, =  1\n",
      "structured, =  1\n",
      "functional =  1\n",
      "supports =  1\n",
      "typed =  1\n",
      "programming =  3\n",
      "language. =  1\n",
      "and =  2\n",
      "is =  2\n",
      "including =  1\n",
      "general-purpose =  1\n",
      "a =  1\n",
      "Its =  1\n",
      "emphasizes =  1\n",
      "object-oriented =  1\n",
      "code =  1\n",
      "design =  1\n",
      "significant =  1\n",
      "with =  1\n",
      "It =  1\n",
      "Python =  2\n",
      "the =  1\n",
      "readability =  1\n",
      "garbage-collected. =  1\n",
      "multiple =  1\n",
      "of =  1\n",
      "use =  1\n",
      "philosophy =  1\n",
      "indentation. =  1\n",
      "dynamically =  1\n",
      "paradigms, =  1\n"
     ]
    }
   ],
   "source": [
    "with open(\"sample.txt\", 'r') as file:\n",
    "    data = file.read()\n",
    "    \n",
    "words = data.split()\n",
    "unique_word = set(words)\n",
    "\n",
    "for word in unique_word:\n",
    "    print(word, \"= \",words.count(word))"
   ]
  },
  {
   "cell_type": "markdown",
   "id": "0f5ad988",
   "metadata": {},
   "source": [
    "### 11. Count the number of words in a text file"
   ]
  },
  {
   "cell_type": "code",
   "execution_count": 32,
   "id": "a478235f",
   "metadata": {},
   "outputs": [
    {
     "name": "stdout",
     "output_type": "stream",
     "text": [
      "Total words:  36\n"
     ]
    }
   ],
   "source": [
    "with open(\"sample.txt\", 'r') as file:\n",
    "    data = file.read()\n",
    "    \n",
    "words = data.split()\n",
    "\n",
    "print(\"Total words: \",len(words))"
   ]
  },
  {
   "cell_type": "code",
   "execution_count": null,
   "id": "9644efea",
   "metadata": {},
   "outputs": [],
   "source": []
  }
 ],
 "metadata": {
  "kernelspec": {
   "display_name": "Python 3 (ipykernel)",
   "language": "python",
   "name": "python3"
  },
  "language_info": {
   "codemirror_mode": {
    "name": "ipython",
    "version": 3
   },
   "file_extension": ".py",
   "mimetype": "text/x-python",
   "name": "python",
   "nbconvert_exporter": "python",
   "pygments_lexer": "ipython3",
   "version": "3.10.5"
  }
 },
 "nbformat": 4,
 "nbformat_minor": 5
}
