{
 "cells": [
  {
   "cell_type": "code",
   "execution_count": 4,
   "id": "f22d2b3a",
   "metadata": {},
   "outputs": [
    {
     "name": "stdout",
     "output_type": "stream",
     "text": [
      "File not found\n"
     ]
    },
    {
     "ename": "NameError",
     "evalue": "name 's' is not defined",
     "output_type": "error",
     "traceback": [
      "\u001b[1;31m---------------------------------------------------------------------------\u001b[0m",
      "\u001b[1;31mNameError\u001b[0m                                 Traceback (most recent call last)",
      "Input \u001b[1;32mIn [4]\u001b[0m, in \u001b[0;36m<cell line: 1>\u001b[1;34m()\u001b[0m\n\u001b[0;32m      7\u001b[0m     s \u001b[38;5;241m=\u001b[39m \u001b[38;5;124m\"\u001b[39m\u001b[38;5;124m \u001b[39m\u001b[38;5;124m\"\u001b[39m\n\u001b[0;32m      8\u001b[0m \u001b[38;5;28;01mfinally\u001b[39;00m:\n\u001b[1;32m----> 9\u001b[0m     \u001b[38;5;28mprint\u001b[39m(\u001b[43ms\u001b[49m)\n",
      "\u001b[1;31mNameError\u001b[0m: name 's' is not defined"
     ]
    }
   ],
   "source": [
    "try:\n",
    "    file = open(\"sample.txt\",'r')\n",
    "    s = file.read()\n",
    "except:\n",
    "    print(\"File not found\")\n",
    "else:\n",
    "    s = \" \"\n",
    "finally:\n",
    "    print(s)"
   ]
  },
  {
   "cell_type": "markdown",
   "id": "3125a1d2",
   "metadata": {},
   "source": [
    "### Try with multiple except block"
   ]
  },
  {
   "cell_type": "code",
   "execution_count": 15,
   "id": "8918161a",
   "metadata": {},
   "outputs": [
    {
     "name": "stdout",
     "output_type": "stream",
     "text": [
      "ZeroDivisionError\n",
      "Done\n"
     ]
    }
   ],
   "source": [
    "try:\n",
    "    x = 2\n",
    "    y = 0\n",
    "    z = '0'\n",
    "    print(x/y)\n",
    "except TypeError:\n",
    "    print(\"Unsupported Exception\")\n",
    "except ZeroDivisionError:\n",
    "    print(\"ZeroDivisionError\")\n",
    "print(\"Done\")"
   ]
  },
  {
   "cell_type": "code",
   "execution_count": null,
   "id": "2a05ac8c",
   "metadata": {},
   "outputs": [],
   "source": []
  },
  {
   "cell_type": "code",
   "execution_count": 31,
   "id": "7bd0379e",
   "metadata": {},
   "outputs": [
    {
     "ename": "SyntaxError",
     "evalue": "invalid syntax (2757977169.py, line 9)",
     "output_type": "error",
     "traceback": [
      "\u001b[1;36m  Input \u001b[1;32mIn [31]\u001b[1;36m\u001b[0m\n\u001b[1;33m    except TypeError:\u001b[0m\n\u001b[1;37m    ^\u001b[0m\n\u001b[1;31mSyntaxError\u001b[0m\u001b[1;31m:\u001b[0m invalid syntax\n"
     ]
    }
   ],
   "source": [
    "try:\n",
    "    x = 2\n",
    "    y = 0\n",
    "    print(x/y)\n",
    "    z = '0'\n",
    "    print(x/z)\n",
    "except Exception:\n",
    "    print(\"ZeroDivisionError\")\n",
    "except TypeError:\n",
    "    print(\"TypeError\")\n",
    "print(\"Done\")"
   ]
  },
  {
   "cell_type": "markdown",
   "id": "a62dac11",
   "metadata": {},
   "source": [
    "### Demo of try except else finally block together"
   ]
  },
  {
   "cell_type": "code",
   "execution_count": 26,
   "id": "58055651",
   "metadata": {},
   "outputs": [
    {
     "name": "stdout",
     "output_type": "stream",
     "text": [
      "try block\n",
      "Enter a number:2\n",
      "Enter another number:2\n",
      "else block\n",
      "Division: 1.0\n",
      "finally block\n",
      "out of the try except else finally block\n"
     ]
    }
   ],
   "source": [
    "try:\n",
    "    print(\"try block\")\n",
    "    x = int(input('Enter a number:'))\n",
    "    y = int(input(\"Enter another number:\"))\n",
    "    z = x / y\n",
    "except ZeroDivisionError:\n",
    "    print(\"except ZeroDivisionError\")\n",
    "    print(\"Division by 0 is not acepted\")\n",
    "else:\n",
    "    print(\"else block\")\n",
    "    print(\"Division:\",z)\n",
    "finally:\n",
    "    print(\"finally block\")\n",
    "print(\"out of the try except else finally block\")"
   ]
  },
  {
   "cell_type": "code",
   "execution_count": 34,
   "id": "bff7d3db",
   "metadata": {},
   "outputs": [
    {
     "name": "stdout",
     "output_type": "stream",
     "text": [
      "Enter a number upto 100:111\n",
      "111 is out of allowed range\n"
     ]
    }
   ],
   "source": [
    "try:\n",
    "    x = int(input(\"Enter a number upto 100:\"))\n",
    "    if x > 100:\n",
    "        raise ValueError(x)\n",
    "except ValueError:\n",
    "    print(x, \"is out of allowed range\")\n",
    "else:\n",
    "    print(\"The value is:\",x)"
   ]
  },
  {
   "cell_type": "code",
   "execution_count": 40,
   "id": "dd34eafb",
   "metadata": {},
   "outputs": [
    {
     "name": "stdout",
     "output_type": "stream",
     "text": [
      "?>Python is a high-level, general-purpose programming language. Its design philosophy emphasizes code readability with the use of significant indentation.\n",
      "\n",
      " Python is dynamically typed and garbage-collected. It supports multiple programming paradigms, including structured, object-oriented and\n",
      "\n",
      " functional programming\n",
      "End of File\n"
     ]
    }
   ],
   "source": [
    "f = open('D:\\Python\\Python Programs\\Txt files\\sample.txt')\n",
    "while True:\n",
    "    try:\n",
    "        line = next(f)\n",
    "        print(line)\n",
    "    except StopIteration:\n",
    "        print(\"End of File\")\n",
    "        break\n",
    "f.close()"
   ]
  },
  {
   "cell_type": "code",
   "execution_count": null,
   "id": "29d99aed",
   "metadata": {},
   "outputs": [],
   "source": []
  }
 ],
 "metadata": {
  "kernelspec": {
   "display_name": "Python 3 (ipykernel)",
   "language": "python",
   "name": "python3"
  },
  "language_info": {
   "codemirror_mode": {
    "name": "ipython",
    "version": 3
   },
   "file_extension": ".py",
   "mimetype": "text/x-python",
   "name": "python",
   "nbconvert_exporter": "python",
   "pygments_lexer": "ipython3",
   "version": "3.10.5"
  }
 },
 "nbformat": 4,
 "nbformat_minor": 5
}
