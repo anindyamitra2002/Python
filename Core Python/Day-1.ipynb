{
 "cells": [
  {
   "cell_type": "markdown",
   "id": "d57893cd",
   "metadata": {},
   "source": [
    "# 01 Swaping without any third variable"
   ]
  },
  {
   "cell_type": "code",
   "execution_count": null,
   "id": "f93f749f",
   "metadata": {},
   "outputs": [],
   "source": [
    "a = 10\n",
    "b = 20\n",
    "b = b / 2\n",
    "a = b * 2\n",
    "print(a, b)"
   ]
  },
  {
   "cell_type": "markdown",
   "id": "e7034e49",
   "metadata": {},
   "source": [
    "# 02 input"
   ]
  },
  {
   "cell_type": "code",
   "execution_count": null,
   "id": "b2c1bef7",
   "metadata": {},
   "outputs": [],
   "source": [
    "inp1 = int(input(\"Enter a number\"))\n",
    "inp2 = int(input(\"Enter another number\"))\n",
    "result = inp1 * inp2\n",
    "print(result)"
   ]
  },
  {
   "cell_type": "markdown",
   "id": "8b83ba9e",
   "metadata": {},
   "source": [
    "# 03 typecasting to float"
   ]
  },
  {
   "cell_type": "code",
   "execution_count": null,
   "id": "fbfe48fc",
   "metadata": {},
   "outputs": [],
   "source": [
    "inp1 = float(input(\"Enter a number\"))\n",
    "inp2 = float(input(\"Enter another number\"))\n",
    "result = inp1 * inp2\n",
    "print(\"The result is: \",result)"
   ]
  },
  {
   "cell_type": "markdown",
   "id": "55c0ea76",
   "metadata": {},
   "source": [
    "# 04  introduction to loop"
   ]
  },
  {
   "cell_type": "code",
   "execution_count": null,
   "id": "c07792e0",
   "metadata": {},
   "outputs": [],
   "source": [
    "ctr =0\n",
    "for ctr in range(10, 21): # in range funtion the lower bound is inclusive and the upper bound is exclusive\n",
    "    print(ctr)"
   ]
  },
  {
   "cell_type": "markdown",
   "id": "e53bf05c",
   "metadata": {},
   "source": [
    "# 05 continue statement"
   ]
  },
  {
   "cell_type": "code",
   "execution_count": null,
   "id": "a45b40bb",
   "metadata": {},
   "outputs": [],
   "source": [
    "ctr =0\n",
    "for ctr in range(10, 21):\n",
    "    if(ctr == 15 or ctr == 17):\n",
    "        continue # coninue statement is used to skip the conditions\n",
    "    else:\n",
    "        print(ctr)"
   ]
  },
  {
   "cell_type": "markdown",
   "id": "aa2f75d5",
   "metadata": {},
   "source": [
    "# 06 break statement"
   ]
  },
  {
   "cell_type": "code",
   "execution_count": null,
   "id": "0f1175c2",
   "metadata": {},
   "outputs": [],
   "source": [
    "low = int(input(\"enter the lower bound: \"))\n",
    "up = int(input(\"enter the upper bound: \"))\n",
    "\n",
    "ctr =0\n",
    "for ctr in range(low, up):\n",
    "    if(ctr == 15 or ctr == 18):\n",
    "        continue\n",
    "    else:\n",
    "        print(ctr)"
   ]
  },
  {
   "cell_type": "markdown",
   "id": "24e5a00b",
   "metadata": {},
   "source": [
    "# Intro to string"
   ]
  },
  {
   "cell_type": "code",
   "execution_count": null,
   "id": "e62491d2",
   "metadata": {},
   "outputs": [],
   "source": [
    "str1 = \"Hello world\\n\"\n",
    "print(str1 * 10)"
   ]
  },
  {
   "cell_type": "code",
   "execution_count": null,
   "id": "60d3d00c",
   "metadata": {},
   "outputs": [],
   "source": [
    "# ctr = 0\n",
    "# for (ctr < 10):\n",
    "#     print(ctr)\n",
    "#     ctr = ctr + 1\n",
    "\n",
    "ctr = 0\n",
    "for ctr in range(10, 21, 2):\n",
    "    print(ctr)"
   ]
  },
  {
   "cell_type": "code",
   "execution_count": null,
   "id": "c3c10ee5",
   "metadata": {},
   "outputs": [],
   "source": [
    "x, y = divmod(11,2)\n",
    "print(x, y)"
   ]
  },
  {
   "cell_type": "code",
   "execution_count": null,
   "id": "368ebf12",
   "metadata": {},
   "outputs": [],
   "source": []
  }
 ],
 "metadata": {
  "kernelspec": {
   "display_name": "Python 3 (ipykernel)",
   "language": "python",
   "name": "python3"
  },
  "language_info": {
   "codemirror_mode": {
    "name": "ipython",
    "version": 3
   },
   "file_extension": ".py",
   "mimetype": "text/x-python",
   "name": "python",
   "nbconvert_exporter": "python",
   "pygments_lexer": "ipython3",
   "version": "3.10.5"
  }
 },
 "nbformat": 4,
 "nbformat_minor": 5
}
