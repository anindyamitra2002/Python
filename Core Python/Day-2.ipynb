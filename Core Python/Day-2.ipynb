{
 "cells": [
  {
   "cell_type": "markdown",
   "id": "f1071e61",
   "metadata": {},
   "source": [
    "# String Methods"
   ]
  },
  {
   "cell_type": "code",
   "execution_count": 1,
   "id": "5637cbb6",
   "metadata": {},
   "outputs": [],
   "source": [
    "str1 = input(\"Enter a string to capitalize:\\n\")\n",
    "print(\"Capitalized string: \",str1.capitalize()) # only the first letter of first word will be capitalize in a string(assosiation function)"
   ]
  },
  {
   "cell_type": "code",
   "execution_count": null,
   "id": "ac817aca",
   "metadata": {},
   "outputs": [],
   "source": [
    "str2 = \"You are a good boyo!!!\"\n",
    "print(\"Length of string\", len(str2)) # (argument function)\n",
    "print(\"The total numbers of 'o'\",str2.count('o'))\n",
    "print(\"count 'o' between index 10 to 16: \",str2.count('o',10,17))\n",
    "print(\"count 'o' between index 17 to end of string: \",str2.count('o',17))"
   ]
  },
  {
   "cell_type": "code",
   "execution_count": null,
   "id": "106a184d",
   "metadata": {},
   "outputs": [],
   "source": [
    "str3 = \"hello\"\n",
    "print(str3[3]) #return the char of index 3\n",
    "str4 = \"The house is on the table\"\n",
    "# str4[4] = 'm' # error--> 'str' object does not support item assignment. (Strings are immutable)\n",
    "str4[-0] # return the str4[0](-0 is same as 0)\n",
    "str4[-3] # return the 3rd last element(reverse indexing)(start from -1)"
   ]
  },
  {
   "cell_type": "code",
   "execution_count": null,
   "id": "7ddb72ca",
   "metadata": {},
   "outputs": [],
   "source": [
    "print(\"Uppercase of str4: \",str4.upper())\n",
    "print(\"Lowercase of str4: \",str4.lower())"
   ]
  },
  {
   "cell_type": "markdown",
   "id": "9477ab99",
   "metadata": {},
   "source": [
    "# Task - 1"
   ]
  },
  {
   "cell_type": "code",
   "execution_count": null,
   "id": "3773f9f2",
   "metadata": {},
   "outputs": [],
   "source": [
    "mystr = '''India, country that occupies the greater part of South Asia. Its capital is New Delhi, built in the 20th century just south of the historic hub of Old Delhi to serve as India’s administrative centre. Its government is a constitutional republic that represents a highly diverse population consisting of thousands of ethnic groups and likely hundreds of languages. With roughly one-sixth of the world’s total population, India is the second most populous country, after China.\n",
    "\n",
    "It is known from archaeological evidence that a highly sophisticated urbanized culture—the Indus civilization—dominated the northwestern part of the subcontinent from about 2600 to 2000 BCE. From that period on, India functioned as a virtually self-contained political and cultural arena, which gave rise to a distinctive tradition that was associated primarily with Hinduism, the roots of which can largely be traced to the Indus civilization. Other religions, notably Buddhism and Jainism, originated in India—though their presence there is now quite small—and throughout the centuries residents of the subcontinent developed a rich intellectual life in such fields as mathematics, astronomy, architecture, literature, music, and the fine arts.'''"
   ]
  },
  {
   "cell_type": "code",
   "execution_count": null,
   "id": "75901878",
   "metadata": {},
   "outputs": [],
   "source": [
    "# Convert into Uppercase\n",
    "mystr.upper()"
   ]
  },
  {
   "cell_type": "code",
   "execution_count": null,
   "id": "1c3a7d54",
   "metadata": {},
   "outputs": [],
   "source": [
    "# Convert into Lowercase\n",
    "mystr.lower()"
   ]
  },
  {
   "cell_type": "code",
   "execution_count": null,
   "id": "3fdcdfbd",
   "metadata": {},
   "outputs": [],
   "source": [
    "# capitalize the pasage\n",
    "mystr.capitalize()"
   ]
  },
  {
   "cell_type": "code",
   "execution_count": null,
   "id": "28cc7d22",
   "metadata": {},
   "outputs": [],
   "source": [
    "# Count total number of vowels\n",
    "mystr = mystr.lower()\n",
    "mystr.count('a') + mystr.count('e') + mystr.count('i') + mystr.count('o') + mystr.count('u')"
   ]
  },
  {
   "cell_type": "code",
   "execution_count": null,
   "id": "334eab57",
   "metadata": {},
   "outputs": [],
   "source": [
    "# count the total character of the passage\n",
    "len(mystr)"
   ]
  },
  {
   "cell_type": "markdown",
   "id": "c0e0ee66",
   "metadata": {},
   "source": [
    "# Task - 2"
   ]
  },
  {
   "cell_type": "code",
   "execution_count": null,
   "id": "4d7d0fc0",
   "metadata": {},
   "outputs": [],
   "source": [
    "#Reverse the whole text\n",
    "for i in range(1, len(mystr)+1):\n",
    "    print(mystr[-i], end=\"\")"
   ]
  },
  {
   "cell_type": "code",
   "execution_count": null,
   "id": "a758cf92",
   "metadata": {},
   "outputs": [],
   "source": [
    "# Find all the vowels and convert it into upper case\n",
    "for i in range(len(mystr)):\n",
    "    if(mystr[i] == 'a'):\n",
    "        print(mystr[i].upper(), end=\" \")\n",
    "    elif(mystr[i] == 'e'):\n",
    "        print(mystr[i].upper(), end=\" \")\n",
    "    elif(mystr[i] == 'i'):\n",
    "        print(mystr[i].upper(), end=\" \")\n",
    "    elif(mystr[i] == 'o'):\n",
    "        print(mystr[i].upper(), end=\" \")\n",
    "    elif(mystr[i] == 'u'):\n",
    "        print(mystr[i].upper(), end=\" \")\n",
    "   \n"
   ]
  },
  {
   "cell_type": "code",
   "execution_count": null,
   "id": "abc0a727",
   "metadata": {},
   "outputs": [],
   "source": [
    "mystr = mystr.lower()\n",
    "mystr = mystr.replace('a', 'A')\n",
    "mystr = mystr.replace('e', 'E')\n",
    "mystr = mystr.replace('i', 'I')\n",
    "mystr = mystr.replace('o', 'O')\n",
    "mystr = mystr.replace('u', 'U')\n",
    "mystr"
   ]
  },
  {
   "cell_type": "code",
   "execution_count": null,
   "id": "25e0558c",
   "metadata": {},
   "outputs": [],
   "source": [
    "str5 = \" anindya  \"\n",
    "len(str5)\n",
    "str5 = str5.lstrip() # strip the white space from the left of the string\n",
    "#str5\n",
    "str5 = str5.rstrip() # strip the white space from the Right of the string\n",
    "str5 = str5.strip() # strip the white space from both the left and the right of the string\n",
    "str5"
   ]
  },
  {
   "cell_type": "markdown",
   "id": "92af774f",
   "metadata": {},
   "source": [
    "# ASCII"
   ]
  },
  {
   "cell_type": "code",
   "execution_count": null,
   "id": "a0df7cf7",
   "metadata": {},
   "outputs": [],
   "source": [
    "# Char to ASCII\n",
    "num = input(\"Enter any Character to get the ASCII: \")\n",
    "print(\"ASCII: \",ord(num))"
   ]
  },
  {
   "cell_type": "code",
   "execution_count": null,
   "id": "82cce118",
   "metadata": {},
   "outputs": [],
   "source": [
    "# ASCII to Char\n",
    "num = int(input(\"Enter any ASCII num to get the equivalent character: \"))\n",
    "print(\"Char: \",chr(num))"
   ]
  },
  {
   "cell_type": "code",
   "execution_count": null,
   "id": "15472344",
   "metadata": {},
   "outputs": [],
   "source": [
    "# convert a string into corresponding ASCII code\n",
    "str6 = \"python\"\n",
    "for i in range(len(str6)):\n",
    "    print(ord(str6[i]), end=\" \")"
   ]
  },
  {
   "cell_type": "code",
   "execution_count": null,
   "id": "edd63559",
   "metadata": {},
   "outputs": [],
   "source": []
  }
 ],
 "metadata": {
  "kernelspec": {
   "display_name": "Python 3",
   "language": "python",
   "name": "python3"
  },
  "language_info": {
   "codemirror_mode": {
    "name": "ipython",
    "version": 3
   },
   "file_extension": ".py",
   "mimetype": "text/x-python",
   "name": "python",
   "nbconvert_exporter": "python",
   "pygments_lexer": "ipython3",
   "version": "3.10.5"
  },
  "vscode": {
   "interpreter": {
    "hash": "528cf3027e1e50e558cd947fc649de1220661711ea73c0e5f275d520961823ef"
   }
  }
 },
 "nbformat": 4,
 "nbformat_minor": 5
}
