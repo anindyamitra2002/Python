{
 "cells": [
  {
   "cell_type": "markdown",
   "id": "98626bcf",
   "metadata": {},
   "source": [
    "# List Exercise"
   ]
  },
  {
   "cell_type": "markdown",
   "id": "1341a97f",
   "metadata": {},
   "source": [
    "# 1.  Interchange first and last elements in a list"
   ]
  },
  {
   "cell_type": "code",
   "execution_count": 9,
   "id": "8d48f23f",
   "metadata": {},
   "outputs": [],
   "source": [
    "mylist = [3,7,1,0,4,9,2]"
   ]
  },
  {
   "cell_type": "code",
   "execution_count": 10,
   "id": "cbb58fc5",
   "metadata": {},
   "outputs": [],
   "source": [
    "def swap(a, b):\n",
    "    temp = mylist[a]\n",
    "    mylist[a] = mylist[b]\n",
    "    mylist[b] = temp"
   ]
  },
  {
   "cell_type": "code",
   "execution_count": 11,
   "id": "8ce90819",
   "metadata": {},
   "outputs": [],
   "source": [
    "swap(0, len(mylist)-1)"
   ]
  },
  {
   "cell_type": "code",
   "execution_count": 12,
   "id": "4f369949",
   "metadata": {},
   "outputs": [
    {
     "data": {
      "text/plain": [
       "[2, 7, 1, 0, 4, 9, 3]"
      ]
     },
     "execution_count": 12,
     "metadata": {},
     "output_type": "execute_result"
    }
   ],
   "source": [
    "mylist"
   ]
  },
  {
   "cell_type": "markdown",
   "id": "6a33f796",
   "metadata": {},
   "source": [
    "# 2. Swap two elements in a list"
   ]
  },
  {
   "cell_type": "code",
   "execution_count": 13,
   "id": "76949f7c",
   "metadata": {},
   "outputs": [],
   "source": [
    "swap(2,4)"
   ]
  },
  {
   "cell_type": "code",
   "execution_count": 14,
   "id": "3ed83533",
   "metadata": {},
   "outputs": [
    {
     "data": {
      "text/plain": [
       "[2, 7, 4, 0, 1, 9, 3]"
      ]
     },
     "execution_count": 14,
     "metadata": {},
     "output_type": "execute_result"
    }
   ],
   "source": [
    "mylist"
   ]
  },
  {
   "cell_type": "markdown",
   "id": "e433430a",
   "metadata": {},
   "source": [
    "# 3. Ways to find length of list"
   ]
  },
  {
   "cell_type": "code",
   "execution_count": 15,
   "id": "8ccdb36b",
   "metadata": {},
   "outputs": [
    {
     "name": "stdout",
     "output_type": "stream",
     "text": [
      "Length of the list:  7\n"
     ]
    }
   ],
   "source": [
    "print(\"Length of the list: \",len(mylist))"
   ]
  },
  {
   "cell_type": "markdown",
   "id": "ddec5911",
   "metadata": {},
   "source": [
    "# 4. Maximum of two numbers"
   ]
  },
  {
   "cell_type": "code",
   "execution_count": 18,
   "id": "18ebb58c",
   "metadata": {},
   "outputs": [
    {
     "name": "stdout",
     "output_type": "stream",
     "text": [
      "Enter First Number: 8\n",
      "Enter second Number: 9\n",
      "9 is the greatest\n"
     ]
    }
   ],
   "source": [
    "num1 = int(input(\"Enter First Number: \"))\n",
    "num2 = int(input(\"Enter second Number: \"))\n",
    "\n",
    "if(num1 > num2):\n",
    "    print(f\"{num1} is the greatest\")\n",
    "elif(num2 > num1):\n",
    "    print(f\"{num2} is the greatest\")\n",
    "else:\n",
    "    print(f\"Both the numbers are same\")"
   ]
  },
  {
   "cell_type": "markdown",
   "id": "cdf32442",
   "metadata": {},
   "source": [
    "# 5. Minimum of two numbers"
   ]
  },
  {
   "cell_type": "code",
   "execution_count": 20,
   "id": "711f7d82",
   "metadata": {},
   "outputs": [
    {
     "name": "stdout",
     "output_type": "stream",
     "text": [
      "Enter First Number: 6\n",
      "Enter second Number: 1\n",
      "1 is the smallest\n"
     ]
    }
   ],
   "source": [
    "num1 = int(input(\"Enter First Number: \"))\n",
    "num2 = int(input(\"Enter second Number: \"))\n",
    "\n",
    "if(num1 > num2):\n",
    "    print(f\"{num2} is the smallest\")\n",
    "elif(num2 > num1):\n",
    "    print(f\"{num1} is the smallest\")\n",
    "else:\n",
    "    print(f\"Both the numbers are same\")"
   ]
  },
  {
   "cell_type": "markdown",
   "id": "7b89005a",
   "metadata": {},
   "source": [
    "# String Exercise"
   ]
  },
  {
   "cell_type": "markdown",
   "id": "1974bfa8",
   "metadata": {},
   "source": [
    "# 1.  Check whether the string is Symmetrical or Palindrome"
   ]
  },
  {
   "cell_type": "code",
   "execution_count": 61,
   "id": "8e4e8812",
   "metadata": {},
   "outputs": [
    {
     "name": "stdout",
     "output_type": "stream",
     "text": [
      "Enter a string: poop\n",
      "Non Symmentric\n",
      "Pallindrome\n"
     ]
    }
   ],
   "source": [
    "def reverse(s):\n",
    "    rs = \"\"\n",
    "    for i in range(1,len(s)+1):\n",
    "        rs = rs + s[-i]\n",
    "    return rs\n",
    "\n",
    "def symmetric(s):\n",
    "    if((s[:(len(s)//2)]) == (s[len(s)//2:])):\n",
    "        print(\"Symmentric\")\n",
    "    else:\n",
    "        print(\"Non Symmentric\")\n",
    "        \n",
    "mystr = input(\"Enter a string: \")\n",
    "symmetric(mystr)\n",
    "if(mystr == reverse(mystr)):\n",
    "    print(\"Pallindrome\")\n",
    "else:\n",
    "    print(\"Not Pallindrome\")\n"
   ]
  },
  {
   "cell_type": "markdown",
   "id": "368017eb",
   "metadata": {},
   "source": [
    "# 2. Ways to remove i’th character from string"
   ]
  },
  {
   "cell_type": "code",
   "execution_count": 32,
   "id": "53a8cc35",
   "metadata": {},
   "outputs": [],
   "source": [
    "mystring = \"Anindya\""
   ]
  },
  {
   "cell_type": "code",
   "execution_count": 33,
   "id": "1df6ccae",
   "metadata": {},
   "outputs": [
    {
     "data": {
      "text/plain": [
       "'Anndya'"
      ]
     },
     "execution_count": 33,
     "metadata": {},
     "output_type": "execute_result"
    }
   ],
   "source": [
    "newstr = mystring.replace(mystring[2], \"\")\n",
    "newstr"
   ]
  },
  {
   "cell_type": "code",
   "execution_count": 34,
   "id": "580a098d",
   "metadata": {},
   "outputs": [
    {
     "data": {
      "text/plain": [
       "'Aninya'"
      ]
     },
     "execution_count": 34,
     "metadata": {},
     "output_type": "execute_result"
    }
   ],
   "source": [
    "newstr = mystring[:4] + mystring[5:]\n",
    "newstr"
   ]
  },
  {
   "cell_type": "code",
   "execution_count": 37,
   "id": "4d112ab9",
   "metadata": {},
   "outputs": [
    {
     "data": {
      "text/plain": [
       "'Aninya'"
      ]
     },
     "execution_count": 37,
     "metadata": {},
     "output_type": "execute_result"
    }
   ],
   "source": [
    "newlist = mystring.split('d')\n",
    "newstr = newlist[0] + newlist[1]\n",
    "newstr"
   ]
  },
  {
   "cell_type": "markdown",
   "id": "895f64e9",
   "metadata": {},
   "source": [
    "# 3. Reverse words in a given String"
   ]
  },
  {
   "cell_type": "code",
   "execution_count": 77,
   "id": "3c3efca5",
   "metadata": {},
   "outputs": [
    {
     "name": "stdout",
     "output_type": "stream",
     "text": [
      "Enter the sentence: i am a good boy\n",
      "i ma a doog yob \n"
     ]
    }
   ],
   "source": [
    "sentence = input(\"Enter the sentence: \")\n",
    "wordlist = sentence.split(\" \")\n",
    "newwordlist = []\n",
    "for word in wordlist:\n",
    "    newwordlist.append(reverse(word)+' ')\n",
    "print(\"\".join(newwordlist))"
   ]
  },
  {
   "cell_type": "markdown",
   "id": "6f4f5b10",
   "metadata": {},
   "source": [
    "# 4. Find length of a string in python"
   ]
  },
  {
   "cell_type": "code",
   "execution_count": 55,
   "id": "192f4ec3",
   "metadata": {},
   "outputs": [],
   "source": [
    "str1 = \"anindya\""
   ]
  },
  {
   "cell_type": "code",
   "execution_count": 56,
   "id": "6caf273a",
   "metadata": {},
   "outputs": [
    {
     "data": {
      "text/plain": [
       "7"
      ]
     },
     "execution_count": 56,
     "metadata": {},
     "output_type": "execute_result"
    }
   ],
   "source": [
    "len(str1)"
   ]
  },
  {
   "cell_type": "code",
   "execution_count": 57,
   "id": "3a261f1a",
   "metadata": {},
   "outputs": [
    {
     "name": "stdout",
     "output_type": "stream",
     "text": [
      "7\n"
     ]
    }
   ],
   "source": [
    "cnt = 0\n",
    "for i in str1:\n",
    "    cnt +=1\n",
    "print(cnt)"
   ]
  },
  {
   "cell_type": "markdown",
   "id": "07d98a21",
   "metadata": {},
   "source": [
    "# 5.  Print even length words in a string"
   ]
  },
  {
   "cell_type": "code",
   "execution_count": 58,
   "id": "0661990a",
   "metadata": {},
   "outputs": [
    {
     "name": "stdout",
     "output_type": "stream",
     "text": [
      "Enter the sentence: i am a good boy\n",
      "am\n",
      "good\n"
     ]
    }
   ],
   "source": [
    "sentence = input(\"Enter the sentence: \")\n",
    "wordlist = sentence.split(\" \")\n",
    "for word in wordlist:\n",
    "    if(len(word) % 2 == 0):\n",
    "        print(word)"
   ]
  },
  {
   "cell_type": "markdown",
   "id": "98ec3d03",
   "metadata": {},
   "source": [
    "# 6. Print longest word from a given sentence"
   ]
  },
  {
   "cell_type": "code",
   "execution_count": 64,
   "id": "51c5ab85",
   "metadata": {},
   "outputs": [
    {
     "name": "stdout",
     "output_type": "stream",
     "text": [
      "Enter the sentence: my name is anindya\n",
      "longest word:  anindya\n"
     ]
    }
   ],
   "source": [
    "sentence = input(\"Enter the sentence: \")\n",
    "wordlist = sentence.split(\" \")\n",
    "key = len(wordlist[0])\n",
    "longestword = wordlist[0]\n",
    "for word in wordlist:\n",
    "    if(len(word) > key):\n",
    "        key = len(word)\n",
    "        longestword = word\n",
    "print(\"longest word: \",longestword)"
   ]
  },
  {
   "cell_type": "markdown",
   "id": "1fa9c693",
   "metadata": {},
   "source": [
    "# 7. Count the number of occurences of a given word from a given string"
   ]
  },
  {
   "cell_type": "code",
   "execution_count": 80,
   "id": "15cf8ee1",
   "metadata": {},
   "outputs": [
    {
     "name": "stdout",
     "output_type": "stream",
     "text": [
      "Enter the sentence: i am a good good boy\n",
      "Enter the target word: good\n",
      "total pccurence of good:  2\n"
     ]
    }
   ],
   "source": [
    "sentence = input(\"Enter the sentence: \")\n",
    "word = input(\"Enter the target word: \")\n",
    "print(f\"total pccurence of {word}: \",sentence.count(word))"
   ]
  },
  {
   "cell_type": "markdown",
   "id": "d70613af",
   "metadata": {},
   "source": [
    "# 8. Print all the unique from a given text"
   ]
  },
  {
   "cell_type": "code",
   "execution_count": 81,
   "id": "fcc7d913",
   "metadata": {},
   "outputs": [
    {
     "name": "stdout",
     "output_type": "stream",
     "text": [
      "Enter the sentence: i am a very very good boy\n",
      "{'very', 'good', 'boy', 'a', 'am', 'i'}\n"
     ]
    }
   ],
   "source": [
    "sentence = input(\"Enter the sentence: \")\n",
    "words = sentence.split(\" \")\n",
    "myset = set(words)\n",
    "print(myset)"
   ]
  },
  {
   "cell_type": "markdown",
   "id": "f4c8b772",
   "metadata": {},
   "source": [
    "# Tuple Exercise"
   ]
  },
  {
   "cell_type": "code",
   "execution_count": 85,
   "id": "d6b956fd",
   "metadata": {},
   "outputs": [],
   "source": [
    "tp1 = (4,2,7,5,0,1,22,6)"
   ]
  },
  {
   "cell_type": "markdown",
   "id": "518ddc9b",
   "metadata": {},
   "source": [
    "# 1. Find the size of a Tuple"
   ]
  },
  {
   "cell_type": "code",
   "execution_count": 86,
   "id": "4e83a4c1",
   "metadata": {},
   "outputs": [
    {
     "data": {
      "text/plain": [
       "8"
      ]
     },
     "execution_count": 86,
     "metadata": {},
     "output_type": "execute_result"
    }
   ],
   "source": [
    "len(tp1)"
   ]
  },
  {
   "cell_type": "markdown",
   "id": "6c99c73a",
   "metadata": {},
   "source": [
    "# 2. Maximum and Minimum K elements in Tuple"
   ]
  },
  {
   "cell_type": "code",
   "execution_count": 87,
   "id": "145816eb",
   "metadata": {},
   "outputs": [
    {
     "data": {
      "text/plain": [
       "22"
      ]
     },
     "execution_count": 87,
     "metadata": {},
     "output_type": "execute_result"
    }
   ],
   "source": [
    "max(tp1)"
   ]
  },
  {
   "cell_type": "code",
   "execution_count": 88,
   "id": "65faba4c",
   "metadata": {},
   "outputs": [
    {
     "data": {
      "text/plain": [
       "0"
      ]
     },
     "execution_count": 88,
     "metadata": {},
     "output_type": "execute_result"
    }
   ],
   "source": [
    "min(tp1)"
   ]
  },
  {
   "cell_type": "markdown",
   "id": "fd429d7e",
   "metadata": {},
   "source": [
    "# 3. Sum of tuple elements"
   ]
  },
  {
   "cell_type": "code",
   "execution_count": 89,
   "id": "18e74e79",
   "metadata": {},
   "outputs": [
    {
     "data": {
      "text/plain": [
       "47"
      ]
     },
     "execution_count": 89,
     "metadata": {},
     "output_type": "execute_result"
    }
   ],
   "source": [
    "sum(tp1)"
   ]
  },
  {
   "cell_type": "markdown",
   "id": "222b2950",
   "metadata": {},
   "source": [
    "# 4. Row-wise element Addition in Tuple Matrix"
   ]
  },
  {
   "cell_type": "code",
   "execution_count": 123,
   "id": "d0427dbf",
   "metadata": {},
   "outputs": [],
   "source": [
    "tp2 = ((1,2,3),(4,5,6),(7,8,9),(10,11,12))"
   ]
  },
  {
   "cell_type": "code",
   "execution_count": 124,
   "id": "1341f3f2",
   "metadata": {},
   "outputs": [],
   "source": [
    "tp3 = tuple(sum(i) for i in tp2)"
   ]
  },
  {
   "cell_type": "code",
   "execution_count": 125,
   "id": "0a4d322d",
   "metadata": {},
   "outputs": [
    {
     "data": {
      "text/plain": [
       "(6, 15, 24, 33)"
      ]
     },
     "execution_count": 125,
     "metadata": {},
     "output_type": "execute_result"
    }
   ],
   "source": [
    "tp3"
   ]
  },
  {
   "cell_type": "markdown",
   "id": "c6ef51e5",
   "metadata": {},
   "source": [
    "# 5. Create a list of tuples from given list having number and its cube in each tuple"
   ]
  },
  {
   "cell_type": "code",
   "execution_count": 126,
   "id": "14224522",
   "metadata": {},
   "outputs": [],
   "source": [
    "tp2 = [(1,2,3),(4,5,6),(7,8,9),(10,11,12)]"
   ]
  },
  {
   "cell_type": "code",
   "execution_count": 142,
   "id": "49b86114",
   "metadata": {},
   "outputs": [],
   "source": [
    "mylist = []\n",
    "for i in tp2:\n",
    "    mylist2 = []\n",
    "    for j in i:\n",
    "        mylist2.append(j*j*j)\n",
    "    mylist.append(tuple(mylist2))\n",
    "        \n",
    "            "
   ]
  },
  {
   "cell_type": "code",
   "execution_count": 143,
   "id": "5ec4de2a",
   "metadata": {},
   "outputs": [
    {
     "data": {
      "text/plain": [
       "[(1, 8, 27), (64, 125, 216), (343, 512, 729), (1000, 1331, 1728)]"
      ]
     },
     "execution_count": 143,
     "metadata": {},
     "output_type": "execute_result"
    }
   ],
   "source": [
    "mylist"
   ]
  },
  {
   "cell_type": "markdown",
   "id": "0262633e",
   "metadata": {},
   "source": [
    "# Set Exercise"
   ]
  },
  {
   "cell_type": "code",
   "execution_count": 144,
   "id": "e9c43f3c",
   "metadata": {},
   "outputs": [],
   "source": [
    "myset = {1,4,2,6,9,0}"
   ]
  },
  {
   "cell_type": "markdown",
   "id": "40103beb",
   "metadata": {},
   "source": [
    "# 1. Find the size of a Set in Python"
   ]
  },
  {
   "cell_type": "code",
   "execution_count": 145,
   "id": "4fb7a23e",
   "metadata": {},
   "outputs": [
    {
     "data": {
      "text/plain": [
       "6"
      ]
     },
     "execution_count": 145,
     "metadata": {},
     "output_type": "execute_result"
    }
   ],
   "source": [
    "len(myset)"
   ]
  },
  {
   "cell_type": "markdown",
   "id": "18d2ff92",
   "metadata": {},
   "source": [
    "# 2. Iterate over a set in Python"
   ]
  },
  {
   "cell_type": "code",
   "execution_count": 146,
   "id": "ab0181f4",
   "metadata": {},
   "outputs": [
    {
     "name": "stdout",
     "output_type": "stream",
     "text": [
      "0\n",
      "1\n",
      "2\n",
      "4\n",
      "6\n",
      "9\n"
     ]
    }
   ],
   "source": [
    "for i in myset:\n",
    "    print(i)"
   ]
  },
  {
   "cell_type": "markdown",
   "id": "608be5fa",
   "metadata": {},
   "source": [
    "# 3. Maximum and Minimum in a Set"
   ]
  },
  {
   "cell_type": "code",
   "execution_count": 147,
   "id": "0195d7af",
   "metadata": {},
   "outputs": [
    {
     "data": {
      "text/plain": [
       "9"
      ]
     },
     "execution_count": 147,
     "metadata": {},
     "output_type": "execute_result"
    }
   ],
   "source": [
    "max(myset)"
   ]
  },
  {
   "cell_type": "code",
   "execution_count": 148,
   "id": "79fbef42",
   "metadata": {},
   "outputs": [
    {
     "data": {
      "text/plain": [
       "0"
      ]
     },
     "execution_count": 148,
     "metadata": {},
     "output_type": "execute_result"
    }
   ],
   "source": [
    "min(myset)"
   ]
  },
  {
   "cell_type": "markdown",
   "id": "8481556e",
   "metadata": {},
   "source": [
    "# 4. Remove items from Set"
   ]
  },
  {
   "cell_type": "code",
   "execution_count": 157,
   "id": "a122d5d0",
   "metadata": {},
   "outputs": [],
   "source": [
    "myset.remove(4)"
   ]
  },
  {
   "cell_type": "code",
   "execution_count": 158,
   "id": "eab934a8",
   "metadata": {},
   "outputs": [
    {
     "data": {
      "text/plain": [
       "{0, 1, 6, 9}"
      ]
     },
     "execution_count": 158,
     "metadata": {},
     "output_type": "execute_result"
    }
   ],
   "source": [
    "myset"
   ]
  },
  {
   "cell_type": "markdown",
   "id": "bd457c26",
   "metadata": {},
   "source": [
    "# 5. Check if two lists have at least one element common"
   ]
  },
  {
   "cell_type": "code",
   "execution_count": 159,
   "id": "af774f6f",
   "metadata": {},
   "outputs": [],
   "source": [
    "list1 = [1,2,3,4]\n",
    "list2 = [2,5,6,7]"
   ]
  },
  {
   "cell_type": "code",
   "execution_count": 160,
   "id": "d84b6f20",
   "metadata": {},
   "outputs": [
    {
     "name": "stdout",
     "output_type": "stream",
     "text": [
      "2\n"
     ]
    }
   ],
   "source": [
    "for i in list1:\n",
    "    if(i in list2):\n",
    "        print(i)"
   ]
  },
  {
   "cell_type": "code",
   "execution_count": null,
   "id": "52964ca0",
   "metadata": {},
   "outputs": [],
   "source": [
    "`"
   ]
  }
 ],
 "metadata": {
  "kernelspec": {
   "display_name": "Python 3 (ipykernel)",
   "language": "python",
   "name": "python3"
  },
  "language_info": {
   "codemirror_mode": {
    "name": "ipython",
    "version": 3
   },
   "file_extension": ".py",
   "mimetype": "text/x-python",
   "name": "python",
   "nbconvert_exporter": "python",
   "pygments_lexer": "ipython3",
   "version": "3.10.5"
  }
 },
 "nbformat": 4,
 "nbformat_minor": 5
}
