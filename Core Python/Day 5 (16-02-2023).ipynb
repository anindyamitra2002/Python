{
 "cells": [
  {
   "cell_type": "markdown",
   "id": "1f2c8195",
   "metadata": {},
   "source": [
    "# Dictionary Problems"
   ]
  },
  {
   "cell_type": "markdown",
   "id": "43980ac8",
   "metadata": {},
   "source": [
    "### 1. Sort Python Dictionaries by Key or Value"
   ]
  },
  {
   "cell_type": "code",
   "execution_count": 10,
   "id": "008af8a2",
   "metadata": {},
   "outputs": [
    {
     "name": "stdout",
     "output_type": "stream",
     "text": [
      "The sorted dictionary based on value:  {0: 0, 1: 1, 2: 2, 3: 3, 4: 5, 5: 7}\n",
      "The sorted dictionary based on keys:  {'A': 3, 'B': 7, 'C': 1, 'D': 5, 'E': 0, 'F': 2}\n"
     ]
    }
   ],
   "source": [
    "mydict = {'D':5, 'A':3, 'C':1, 'E':0, 'F':2, 'B':7}\n",
    "\n",
    "myvals = list(mydict.values())\n",
    "myvals.sort()\n",
    "newdict = {myvals.index(i): i for i in myvals}\n",
    "print(\"The sorted dictionary based on value: \",newdict)\n",
    "\n",
    "mykeys = list(mydict.keys())\n",
    "mykeys.sort()\n",
    "newdict = {i : mydict[i] for i in mykeys}\n",
    "print(\"The sorted dictionary based on keys: \",newdict)"
   ]
  },
  {
   "cell_type": "markdown",
   "id": "20179039",
   "metadata": {},
   "source": [
    "### 2. Handling missing keys in Python dictionaries"
   ]
  },
  {
   "cell_type": "code",
   "execution_count": 14,
   "id": "4b304d92",
   "metadata": {},
   "outputs": [
    {
     "name": "stdout",
     "output_type": "stream",
     "text": [
      "2\n",
      "Key is missing\n"
     ]
    }
   ],
   "source": [
    "mydict = {'D':5, 'A':3, 'C':1, 'E':0, 'F':2, 'B':7}\n",
    "\n",
    "print(mydict.get('F', \"Key is missing\")) # F is in the dictionary and it will return the value of the 'F' key\n",
    "print(mydict.get('G', \"Key is missing\")) # G is not preent in the dictionary so it will return that the key is missing"
   ]
  },
  {
   "cell_type": "markdown",
   "id": "022a03f3",
   "metadata": {},
   "source": [
    "### 3. Python dictionary with keys having multiple inputs"
   ]
  },
  {
   "cell_type": "code",
   "execution_count": 36,
   "id": "3a262b04",
   "metadata": {},
   "outputs": [
    {
     "data": {
      "text/plain": [
       "{1: 'A', (3, 4): 'B', 7: 'D'}"
      ]
     },
     "execution_count": 36,
     "metadata": {},
     "output_type": "execute_result"
    }
   ],
   "source": [
    "# mydict = {1: 'A', 3,4: 'B', 7: 'D'} # It will throw an error\n",
    "mydict = {1: 'A', (3,4): 'B', 7: 'D'} # combine the multiple keys as a tuple\n",
    "\n",
    "mydict"
   ]
  },
  {
   "cell_type": "markdown",
   "id": "d4b6320b",
   "metadata": {},
   "source": [
    "### 4. Find the sum of all items in a dictionary"
   ]
  },
  {
   "cell_type": "code",
   "execution_count": 37,
   "id": "514df728",
   "metadata": {},
   "outputs": [
    {
     "data": {
      "text/plain": [
       "{15: 30}"
      ]
     },
     "execution_count": 37,
     "metadata": {},
     "output_type": "execute_result"
    }
   ],
   "source": [
    "mydict = {1:2, 2:4, 3:6, 4:8, 5:10}\n",
    "\n",
    "sum_keys = sum(list(mydict.keys()))\n",
    "sum_vals = sum(list(mydict.values()))\n",
    "\n",
    "newdict = {sum_keys : sum_vals}\n",
    "newdict"
   ]
  },
  {
   "cell_type": "markdown",
   "id": "67eaa37a",
   "metadata": {},
   "source": [
    "### 5.  Find the size of a Dictionary"
   ]
  },
  {
   "cell_type": "code",
   "execution_count": 38,
   "id": "d766e1a9",
   "metadata": {},
   "outputs": [
    {
     "data": {
      "text/plain": [
       "5"
      ]
     },
     "execution_count": 38,
     "metadata": {},
     "output_type": "execute_result"
    }
   ],
   "source": [
    "len(mydict)"
   ]
  },
  {
   "cell_type": "markdown",
   "id": "b7e9e936",
   "metadata": {},
   "source": [
    "### 6. Sort list of dictionaries by values in Python – Using itemgetter"
   ]
  },
  {
   "cell_type": "code",
   "execution_count": 48,
   "id": "1cba8ac7",
   "metadata": {},
   "outputs": [
    {
     "data": {
      "text/plain": [
       "[{'Name': 'Anupam', 'UID': 1, 'Dept': 'DS'},\n",
       " {'Name': 'Subham', 'UID': 2, 'Dept': 'DS'},\n",
       " {'Name': 'Iman', 'UID': 37, 'Dept': 'AI'},\n",
       " {'Name': 'Anindya', 'UID': 42, 'Dept': 'AI'}]"
      ]
     },
     "execution_count": 48,
     "metadata": {},
     "output_type": "execute_result"
    }
   ],
   "source": [
    "import operator\n",
    "\n",
    "mylist = [{'Name':'Anindya', 'UID':42, 'Dept': 'AI'},\n",
    "         {'Name':'Iman', 'UID':37, 'Dept': 'AI'},\n",
    "         {'Name':'Anupam', 'UID':1, 'Dept': 'DS'},\n",
    "         {'Name':'Subham', 'UID':2, 'Dept': 'DS'}]\n",
    "\n",
    "sorted_dict = sorted(mylist, key= operator.itemgetter('UID'))\n",
    "sorted_dict"
   ]
  },
  {
   "cell_type": "markdown",
   "id": "e61debb8",
   "metadata": {},
   "source": [
    "### 7. Ways to sort list of dictionaries by values in Python – Using lambda function"
   ]
  },
  {
   "cell_type": "code",
   "execution_count": 53,
   "id": "8dffb29b",
   "metadata": {},
   "outputs": [
    {
     "data": {
      "text/plain": [
       "[{'Name': 'Anupam', 'UID': 1, 'Dept': 'DS'},\n",
       " {'Name': 'Subham', 'UID': 2, 'Dept': 'DS'},\n",
       " {'Name': 'Iman', 'UID': 37, 'Dept': 'AI'},\n",
       " {'Name': 'Anindya', 'UID': 42, 'Dept': 'AI'}]"
      ]
     },
     "execution_count": 53,
     "metadata": {},
     "output_type": "execute_result"
    }
   ],
   "source": [
    "mylist = [{'Name':'Anindya', 'UID':42, 'Dept': 'AI'},\n",
    "         {'Name':'Iman', 'UID':37, 'Dept': 'AI'},\n",
    "         {'Name':'Anupam', 'UID':1, 'Dept': 'DS'},\n",
    "         {'Name':'Subham', 'UID':2, 'Dept': 'DS'}]\n",
    "\n",
    "sorted_dict = sorted(mylist, key= lambda i : i['UID'])\n",
    "sorted_dict"
   ]
  },
  {
   "cell_type": "markdown",
   "id": "6eddcd6f",
   "metadata": {},
   "source": [
    "### 8. Merging two Dictionaries"
   ]
  },
  {
   "cell_type": "code",
   "execution_count": 56,
   "id": "82421d97",
   "metadata": {},
   "outputs": [
    {
     "data": {
      "text/plain": [
       "{'Name1': 'Anindya',\n",
       " 'UID1': 42,\n",
       " 'Dept1': 'AI',\n",
       " 'Name2': 'Anupam',\n",
       " 'UID2': 1,\n",
       " 'Dept2': 'DS'}"
      ]
     },
     "execution_count": 56,
     "metadata": {},
     "output_type": "execute_result"
    }
   ],
   "source": [
    "dict1 = {'Name1':'Anindya', 'UID1':42, 'Dept1': 'AI'}\n",
    "dict2 = {'Name2':'Anupam', 'UID2':1, 'Dept2': 'DS'}\n",
    "\n",
    "dict1.update(dict2)\n",
    "dict1"
   ]
  },
  {
   "cell_type": "markdown",
   "id": "a5911a62",
   "metadata": {},
   "source": [
    "### 9. Create grade calculator"
   ]
  },
  {
   "cell_type": "code",
   "execution_count": 71,
   "id": "d1c5d198",
   "metadata": {},
   "outputs": [
    {
     "name": "stdout",
     "output_type": "stream",
     "text": [
      "Enter the marks: 78\n",
      "Grade: B+\n"
     ]
    }
   ],
   "source": [
    "grade = {range(90,101): 'A+', range(80,91): 'A', range(70,81): 'B+', range(60,71): 'B', range(50,61): 'C+', range(40,51): 'C', range(0,41): 'D'}\n",
    "mark = int(input(\"Enter the marks: \"))\n",
    "bound = grade.keys()\n",
    "for marks in bound:\n",
    "    if(mark in marks):\n",
    "        print(\"Grade:\", grade[marks])"
   ]
  },
  {
   "cell_type": "markdown",
   "id": "c1018a7c",
   "metadata": {},
   "source": [
    " ### 10. Insertion at the beginning in OrderedDict"
   ]
  },
  {
   "cell_type": "code",
   "execution_count": 79,
   "id": "c6946118",
   "metadata": {},
   "outputs": [
    {
     "name": "stdout",
     "output_type": "stream",
     "text": [
      "Enter the key(string): name\n",
      "Enter the value(string): anindya\n",
      "{'name': 'anindya', 'D': 5, 'A': 3, 'C': 1, 'E': 0, 'F': 2, 'B': 7}\n"
     ]
    }
   ],
   "source": [
    "mydict = {'D':5, 'A':3, 'C':1, 'E':0, 'F':2, 'B':7}\n",
    "mykey = input(\"Enter the key(string): \")\n",
    "myval = input(\"Enter the value(string): \")\n",
    "\n",
    "newdict = {mykey : myval}\n",
    "mydict = newdict.update(mydict)\n",
    "print(newdict)"
   ]
  },
  {
   "cell_type": "markdown",
   "id": "7b44d873",
   "metadata": {},
   "source": [
    "### 11. Check order of character in string using OrderedDict( )"
   ]
  },
  {
   "cell_type": "code",
   "execution_count": null,
   "id": "a282b81c",
   "metadata": {},
   "outputs": [],
   "source": []
  },
  {
   "cell_type": "markdown",
   "id": "71e723e8",
   "metadata": {},
   "source": [
    "### 12. Find common elements in three sorted arrays by dictionary intersection"
   ]
  },
  {
   "cell_type": "code",
   "execution_count": 95,
   "id": "07301657",
   "metadata": {},
   "outputs": [
    {
     "name": "stdout",
     "output_type": "stream",
     "text": [
      "Common elements:  dict_keys([2, 3, 1, 9, 4])\n"
     ]
    }
   ],
   "source": [
    "from collections import Counter\n",
    "\n",
    "list1 = [1,5,2,8,4,9,3]\n",
    "list2 = [3,2,6,9,4,1]\n",
    "list3 = [1,2,3,4,5,9]\n",
    "\n",
    "list1 = Counter(list1)\n",
    "list2 = Counter(list2)\n",
    "list3 = Counter(list3)\n",
    "\n",
    "common = dict(list1.items() & list2.items() & list3.items())\n",
    "print(\"Common elements: \", common.keys())"
   ]
  },
  {
   "cell_type": "markdown",
   "id": "00a33cb3",
   "metadata": {},
   "source": [
    "### 13. Dictionary and counter in Python to find winner of election"
   ]
  },
  {
   "cell_type": "code",
   "execution_count": 102,
   "id": "a7ee256c",
   "metadata": {},
   "outputs": [
    {
     "name": "stdout",
     "output_type": "stream",
     "text": [
      "Give vote(A or B), Voter1: A\n",
      "Give vote(A or B), Voter2: A\n",
      "Give vote(A or B), Voter3: A\n",
      "Give vote(A or B), Voter4: B\n",
      "Give vote(A or B), Voter5: B\n",
      "Give vote(A or B), Voter6: B\n",
      "Give vote(A or B), Voter7: B\n",
      "Give vote(A or B), Voter8: B\n",
      "Give vote(A or B), Voter9: A\n",
      "Give vote(A or B), Voter10: B\n",
      "Voting Finished!\n",
      "Counter({'B': 6, 'A': 4})\n",
      "4 6\n",
      "Winner: B\n"
     ]
    }
   ],
   "source": [
    "votes = []\n",
    "for i in range(10):\n",
    "    vote = input(f\"Give vote(A or B), Voter{i+1}: \")\n",
    "    votes.append(vote)\n",
    "print(\"Voting Finished!\")\n",
    "result = Counter(votes)\n",
    "print(result)\n",
    "A = result.get('A')\n",
    "B = result.get('B')\n",
    "print(\"Draw\" if (A == B) else \"Winnner: A\" if (A > B) else \"Winner: B\")"
   ]
  },
  {
   "cell_type": "markdown",
   "id": "cd5c334e",
   "metadata": {},
   "source": [
    "### 14. Key with maximum unique values"
   ]
  },
  {
   "cell_type": "code",
   "execution_count": 124,
   "id": "0a13be95",
   "metadata": {},
   "outputs": [
    {
     "name": "stdout",
     "output_type": "stream",
     "text": [
      "{'list1': 3, 'list2': 4, 'list3': 3}\n"
     ]
    },
    {
     "data": {
      "text/plain": [
       "{3: 'list3', 4: 'list2'}"
      ]
     },
     "execution_count": 124,
     "metadata": {},
     "output_type": "execute_result"
    }
   ],
   "source": [
    "uni_dict = {\"list1\" : [5, 7, 5, 4, 5],\n",
    "            \"list2\" : [6, 7, 4, 3, 3],\n",
    "            \"list3\" : [9, 9, 6, 5, 5]}\n",
    "new_dict = {}\n",
    "\n",
    "for key in uni_dict.keys():\n",
    "    new_dict.update({key : set(uni_dict.get(key))})\n",
    "    new_dict.update({key : len(new_dict.get(key))})\n",
    "    \n",
    "print(new_dict)\n",
    "my_dict2 = {y: x for x, y in new_dict.items()}\n",
    "my_dict2"
   ]
  },
  {
   "cell_type": "code",
   "execution_count": null,
   "id": "f0092cdf",
   "metadata": {},
   "outputs": [],
   "source": []
  }
 ],
 "metadata": {
  "kernelspec": {
   "display_name": "Python 3 (ipykernel)",
   "language": "python",
   "name": "python3"
  },
  "language_info": {
   "codemirror_mode": {
    "name": "ipython",
    "version": 3
   },
   "file_extension": ".py",
   "mimetype": "text/x-python",
   "name": "python",
   "nbconvert_exporter": "python",
   "pygments_lexer": "ipython3",
   "version": "3.10.5"
  }
 },
 "nbformat": 4,
 "nbformat_minor": 5
}
